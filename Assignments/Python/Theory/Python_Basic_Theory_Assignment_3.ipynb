{
 "cells": [
  {
   "cell_type": "markdown",
   "id": "08ee5fda",
   "metadata": {},
   "source": [
    "1. Why are functions advantageous to have in your programs?"
   ]
  },
  {
   "cell_type": "markdown",
   "id": "322431e1",
   "metadata": {},
   "source": [
    "Answer: Usage of functions will reduce the duplicate code, which can be reused at any level of coding by simple function \n",
    "    call."
   ]
  },
  {
   "cell_type": "markdown",
   "id": "06c9cba1",
   "metadata": {},
   "source": [
    "2. When does the code in a function run: when it's specified or when it's called?"
   ]
  },
  {
   "cell_type": "markdown",
   "id": "3714ac0f",
   "metadata": {},
   "source": [
    "Answer: function will run only when it's called except main function, which is built-in function executes without function\n",
    "    call."
   ]
  },
  {
   "cell_type": "markdown",
   "id": "7500328a",
   "metadata": {},
   "source": [
    "3. What statement creates a function?"
   ]
  },
  {
   "cell_type": "markdown",
   "id": "7e6b01a0",
   "metadata": {},
   "source": [
    "Answer: Using \"def\" keyword following name of function which is not a keyword using in python.\n",
    "    \n",
    "    ex: def sample_fun():\n",
    "            #set of code"
   ]
  },
  {
   "cell_type": "markdown",
   "id": "391e27bd",
   "metadata": {},
   "source": [
    "4. What is the difference between a function and a function call?"
   ]
  },
  {
   "cell_type": "markdown",
   "id": "109c995d",
   "metadata": {},
   "source": [
    "Answer: function is a collection of code of lines executes when function called. function call is a callabe object which \n",
    "    accepts a set of arguments based on function definition."
   ]
  },
  {
   "cell_type": "markdown",
   "id": "cd4b9df4",
   "metadata": {},
   "source": [
    "5. How many global scopes are there in a Python program? How many local scopes?"
   ]
  },
  {
   "cell_type": "markdown",
   "id": "13d99505",
   "metadata": {},
   "source": [
    "Answer: There are only one global scope and local scopes based on set of condition."
   ]
  },
  {
   "cell_type": "markdown",
   "id": "cafde64f",
   "metadata": {},
   "source": [
    "6. What happens to variables in a local scope when the function call returns?"
   ]
  },
  {
   "cell_type": "markdown",
   "id": "2624ebfc",
   "metadata": {},
   "source": [
    "Answer: local variable becomes undefined after the function call returns and it will retains its value until the next\n",
    "    the function is called."
   ]
  },
  {
   "cell_type": "markdown",
   "id": "da3a3f68",
   "metadata": {},
   "source": [
    "7. What is the concept of a return value? Is it possible to have a return value in an expression?"
   ]
  },
  {
   "cell_type": "markdown",
   "id": "c76f288c",
   "metadata": {},
   "source": [
    "Answer: after completion of function execution function call returns a value, the the return value can be any python\n",
    "object."
   ]
  },
  {
   "cell_type": "markdown",
   "id": "76ce06fb",
   "metadata": {},
   "source": [
    "8. If a function does not have a return statement, what is the return value of a call to that function?"
   ]
  },
  {
   "cell_type": "markdown",
   "id": "7c8d0e65",
   "metadata": {},
   "source": [
    "Answer: if return value not specified in a function, 'None' will be the returned."
   ]
  },
  {
   "cell_type": "markdown",
   "id": "c2233297",
   "metadata": {},
   "source": [
    "9. How do you make a function variable refer to the global variable?"
   ]
  },
  {
   "cell_type": "markdown",
   "id": "47b5f4f5",
   "metadata": {},
   "source": [
    "Answer: 'global' is a built-in keyword present in python, if function variable wants to refer to the global variable."
   ]
  },
  {
   "cell_type": "markdown",
   "id": "f28a8d80",
   "metadata": {},
   "source": [
    "10. What is the data type of None?"
   ]
  },
  {
   "cell_type": "markdown",
   "id": "27a783b4",
   "metadata": {},
   "source": [
    "Answer: None keyword in python used to define null values or no value, it is not same as 0 or false."
   ]
  },
  {
   "cell_type": "markdown",
   "id": "003aa87a",
   "metadata": {},
   "source": [
    "11. What does the sentence import areallyourpetsnamederic do?"
   ]
  },
  {
   "cell_type": "markdown",
   "id": "b9c0b2a5",
   "metadata": {},
   "source": [
    "Answer: imports module 'areallyourpetsnamederic'"
   ]
  },
  {
   "cell_type": "markdown",
   "id": "35504468",
   "metadata": {},
   "source": [
    "12. If you had a bacon() feature in a spam module, what would you call it after importing spam?"
   ]
  },
  {
   "cell_type": "markdown",
   "id": "863dcb0a",
   "metadata": {},
   "source": [
    "Answer: import spam \n",
    "    spam.bacon()\n",
    "    \n",
    "    or\n",
    "    \n",
    "    import spam as s\n",
    "    s.bacon()"
   ]
  },
  {
   "cell_type": "markdown",
   "id": "a0a5eec1",
   "metadata": {},
   "source": [
    "13. What can you do to save a programme from crashing if it encounters an error?"
   ]
  },
  {
   "cell_type": "markdown",
   "id": "582f187e",
   "metadata": {},
   "source": [
    "Answer: needs to implement exception handling concept to throw an error message instead of crashing."
   ]
  },
  {
   "cell_type": "markdown",
   "id": "c6e1010c",
   "metadata": {},
   "source": [
    "14. What is the purpose of the try clause? What is the purpose of the except clause?"
   ]
  },
  {
   "cell_type": "markdown",
   "id": "f75b9cee",
   "metadata": {},
   "source": [
    "Answer:\n",
    "    try: try clause stops the execution and throw into except clause if any run-time error is identified.\n",
    "    \n",
    "    except: except clause will be execute set of code in block, if run-time error occured in try. mostly used to pass\n",
    "    error messages."
   ]
  },
  {
   "cell_type": "code",
   "execution_count": null,
   "id": "375ee545",
   "metadata": {},
   "outputs": [],
   "source": []
  }
 ],
 "metadata": {
  "kernelspec": {
   "display_name": "Python 3 (ipykernel)",
   "language": "python",
   "name": "python3"
  },
  "language_info": {
   "codemirror_mode": {
    "name": "ipython",
    "version": 3
   },
   "file_extension": ".py",
   "mimetype": "text/x-python",
   "name": "python",
   "nbconvert_exporter": "python",
   "pygments_lexer": "ipython3",
   "version": "3.9.7"
  }
 },
 "nbformat": 4,
 "nbformat_minor": 5
}
