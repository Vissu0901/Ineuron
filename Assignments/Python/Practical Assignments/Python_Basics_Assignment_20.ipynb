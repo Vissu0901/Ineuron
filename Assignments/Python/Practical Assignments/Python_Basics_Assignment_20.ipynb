{
 "cells": [
  {
   "cell_type": "markdown",
   "id": "7cfe905d",
   "metadata": {},
   "source": [
    "Question 1 :\n",
    "Create a function that takes a list of strings and integers, and filters out the list so that it returns a list of integers only.\n"
   ]
  },
  {
   "cell_type": "code",
   "execution_count": 5,
   "id": "ab69531a",
   "metadata": {},
   "outputs": [],
   "source": [
    "def filter_list(ele):\n",
    "    \"\"\"This function takes a list of strings and integers, and filters out the list so that it returns a list of \n",
    "    integers only\"\"\"\n",
    "    try:\n",
    "        if type(ele)==list:\n",
    "            \n",
    "            if len(ele)!=0:\n",
    "                \n",
    "                for i in ele:\n",
    "                    if type(i)==str or type(i)==int:\n",
    "                        pass\n",
    "                    else:\n",
    "                        raise Exception('Pass strings and integers in list')\n",
    "                else:\n",
    "                    new_ele=[]\n",
    "                \n",
    "                    for i in ele:\n",
    "                        if type(i)==int:\n",
    "                            new_ele.append(i)\n",
    "                    else:\n",
    "                        return new_ele\n",
    "            else:\n",
    "                raise Exception('Your list is empty')\n",
    "        else:\n",
    "            raise Exception('Pass list of strings and integers')\n",
    "        \n",
    "    except Exception as ee:\n",
    "        print(ee)"
   ]
  },
  {
   "cell_type": "code",
   "execution_count": 6,
   "id": "a04059cc",
   "metadata": {},
   "outputs": [
    {
     "data": {
      "text/plain": [
       "[1, 2, 3, 4]"
      ]
     },
     "execution_count": 6,
     "metadata": {},
     "output_type": "execute_result"
    }
   ],
   "source": [
    "filter_list([1, 2, 3, \"a\", \"b\", 4])"
   ]
  },
  {
   "cell_type": "code",
   "execution_count": 7,
   "id": "42e616e4",
   "metadata": {},
   "outputs": [
    {
     "data": {
      "text/plain": [
       "[0, 1729]"
      ]
     },
     "execution_count": 7,
     "metadata": {},
     "output_type": "execute_result"
    }
   ],
   "source": [
    "filter_list([\"A\", 0, \"Edabit\", 1729, \"Python\", \"1729\"])"
   ]
  },
  {
   "cell_type": "code",
   "execution_count": 8,
   "id": "eaf89d2d",
   "metadata": {},
   "outputs": [
    {
     "data": {
      "text/plain": [
       "[]"
      ]
     },
     "execution_count": 8,
     "metadata": {},
     "output_type": "execute_result"
    }
   ],
   "source": [
    "filter_list([\"Nothing\", \"here\"])"
   ]
  },
  {
   "cell_type": "code",
   "execution_count": 11,
   "id": "19e24f12",
   "metadata": {},
   "outputs": [
    {
     "name": "stdout",
     "output_type": "stream",
     "text": [
      "Your list is empty\n"
     ]
    }
   ],
   "source": [
    "filter_list([])"
   ]
  },
  {
   "cell_type": "markdown",
   "id": "767d419a",
   "metadata": {},
   "source": [
    "Question 2 :\n",
    "Given a list of numbers, create a function which returns the list but with each element's index in the list added to itself. This means you add 0 to the number at index 0, add 1 to the number at index 1, etc...\n"
   ]
  },
  {
   "cell_type": "code",
   "execution_count": 16,
   "id": "6a7fc69d",
   "metadata": {},
   "outputs": [],
   "source": [
    "def add_indexes(ele):\n",
    "    \"\"\"This function takes list of integers, which returns the list but with each element's index in the list added\n",
    "    to itself\"\"\"\n",
    "    try:\n",
    "        if type(ele)==list:\n",
    "            \n",
    "            if len(ele)!=0: #checking whether list is empty\n",
    "                \n",
    "                new_ele=[]\n",
    "                \n",
    "                for i in range(0,len(ele)): #adding index and ele value\n",
    "                    res = ele[i]+i \n",
    "                    new_ele.append(res)\n",
    "                else:\n",
    "                    return new_ele \n",
    "            else:\n",
    "                raise Exception('Your list is empty')\n",
    "            \n",
    "        else:\n",
    "            raise Exception('Pass list of integers')\n",
    "            \n",
    "    except Exception as ee:\n",
    "        print(ee)"
   ]
  },
  {
   "cell_type": "code",
   "execution_count": 17,
   "id": "e8bfb01d",
   "metadata": {},
   "outputs": [
    {
     "data": {
      "text/plain": [
       "[0, 1, 2, 3, 4]"
      ]
     },
     "execution_count": 17,
     "metadata": {},
     "output_type": "execute_result"
    }
   ],
   "source": [
    "add_indexes([0, 0, 0, 0, 0])"
   ]
  },
  {
   "cell_type": "code",
   "execution_count": 18,
   "id": "bd6d0997",
   "metadata": {},
   "outputs": [
    {
     "data": {
      "text/plain": [
       "[1, 3, 5, 7, 9]"
      ]
     },
     "execution_count": 18,
     "metadata": {},
     "output_type": "execute_result"
    }
   ],
   "source": [
    "add_indexes([1, 2, 3, 4, 5])"
   ]
  },
  {
   "cell_type": "code",
   "execution_count": 29,
   "id": "6c78881e",
   "metadata": {},
   "outputs": [
    {
     "data": {
      "text/plain": [
       "[5, 5, 5, 5, 5]"
      ]
     },
     "execution_count": 29,
     "metadata": {},
     "output_type": "execute_result"
    }
   ],
   "source": [
    "add_indexes([5, 4, 3, 2, 1])"
   ]
  },
  {
   "cell_type": "markdown",
   "id": "42331470",
   "metadata": {},
   "source": [
    "Question 5 :\n",
    "Create a function that takes a list of numbers between 1 and 10 (excluding one number) and returns the missing number.\n"
   ]
  },
  {
   "cell_type": "code",
   "execution_count": 44,
   "id": "0878316d",
   "metadata": {},
   "outputs": [],
   "source": [
    "def missing_num(ele):\n",
    "    \"\"\"This function will takes a list of numbers between 1 and 10 excluding one number and returns the missing\n",
    "    number\"\"\"\n",
    "    try:\n",
    "        if type(ele)==list:\n",
    "            \n",
    "            if len(ele)!=0:\n",
    "                \n",
    "                if len(ele)>0 or len(ele)<=10:\n",
    "                    \n",
    "                    for i in ele: #checking if elements are less than 0 or greater than 10\n",
    "                        if i>0 or i<10:\n",
    "                            pass\n",
    "                        else:\n",
    "                            raise Exception('Pass numbers between 1 and 10')\n",
    "                    else:\n",
    "                        count1 = 55 #total sum of numbers 1 to 10\n",
    "                        count2 = 0\n",
    "                        \n",
    "                        for i in ele:\n",
    "                            count2 = count2 + i #total sum of given numbers\n",
    "                        else:\n",
    "                            res = count1 - count2 #difference of sum of numbers gives missing number\n",
    "                            \n",
    "                            return res\n",
    "                else:\n",
    "                    raise Exception('Pass 9 numbers')\n",
    "            \n",
    "            else:\n",
    "                raise Exception('Your list is empty')\n",
    "        \n",
    "        else:\n",
    "            raise Exception('Pass list of numbers')\n",
    "            \n",
    "    except Exception as ee:\n",
    "        print(ee)"
   ]
  },
  {
   "cell_type": "code",
   "execution_count": 45,
   "id": "94457a57",
   "metadata": {},
   "outputs": [
    {
     "data": {
      "text/plain": [
       "5"
      ]
     },
     "execution_count": 45,
     "metadata": {},
     "output_type": "execute_result"
    }
   ],
   "source": [
    "missing_num([1, 2, 3, 4, 6, 7, 8, 9, 10])"
   ]
  },
  {
   "cell_type": "code",
   "execution_count": 46,
   "id": "0978eef4",
   "metadata": {},
   "outputs": [
    {
     "data": {
      "text/plain": [
       "10"
      ]
     },
     "execution_count": 46,
     "metadata": {},
     "output_type": "execute_result"
    }
   ],
   "source": [
    "missing_num([7, 2, 3, 6, 5, 9, 1, 4, 8])"
   ]
  },
  {
   "cell_type": "code",
   "execution_count": 47,
   "id": "efae5671",
   "metadata": {},
   "outputs": [
    {
     "data": {
      "text/plain": [
       "7"
      ]
     },
     "execution_count": 47,
     "metadata": {},
     "output_type": "execute_result"
    }
   ],
   "source": [
    "missing_num([10, 5, 1, 2, 4, 6, 8, 3, 9])"
   ]
  },
  {
   "cell_type": "markdown",
   "id": "bf671932",
   "metadata": {},
   "source": [
    "Question 3 :\n",
    "Create a function that takes the height and radius of a cone as arguments and returns the volume of the cone rounded to the nearest hundredth. See the resources tab for the formula.\n"
   ]
  },
  {
   "cell_type": "code",
   "execution_count": 37,
   "id": "3e556523",
   "metadata": {},
   "outputs": [],
   "source": [
    "def cone_volume(h,r):\n",
    "    \"\"\"This function takes the height and radius of a cone as arguments and returns the volume of the cone rounded\n",
    "    to the nearest hundredth\"\"\"\n",
    "    try:\n",
    "        if type(h)==int or type(h)==float or type(r)==int or type(r)==float:\n",
    "            \n",
    "            pi = 3.14159 #pi value\n",
    "            \n",
    "            cone = pi*r**2*h/3 #cone volume = pi*r2*h/3\n",
    "            \n",
    "            res = round(cone,2) #rounding to nearest hundredth value\n",
    "            \n",
    "            if res==0:\n",
    "                return 0\n",
    "            else:\n",
    "                return res\n",
    "            \n",
    "        else:\n",
    "            raise Exception('Pass height and radius in int or float format')\n",
    "            \n",
    "    except Exception as ee:\n",
    "        print(ee)"
   ]
  },
  {
   "cell_type": "code",
   "execution_count": 38,
   "id": "62683be4",
   "metadata": {},
   "outputs": [
    {
     "data": {
      "text/plain": [
       "12.57"
      ]
     },
     "execution_count": 38,
     "metadata": {},
     "output_type": "execute_result"
    }
   ],
   "source": [
    "cone_volume(3, 2)"
   ]
  },
  {
   "cell_type": "code",
   "execution_count": 39,
   "id": "c58c0f4a",
   "metadata": {},
   "outputs": [
    {
     "data": {
      "text/plain": [
       "565.49"
      ]
     },
     "execution_count": 39,
     "metadata": {},
     "output_type": "execute_result"
    }
   ],
   "source": [
    "cone_volume(15, 6)"
   ]
  },
  {
   "cell_type": "code",
   "execution_count": 40,
   "id": "349c0bba",
   "metadata": {},
   "outputs": [
    {
     "data": {
      "text/plain": [
       "0"
      ]
     },
     "execution_count": 40,
     "metadata": {},
     "output_type": "execute_result"
    }
   ],
   "source": [
    "cone_volume(18, 0)"
   ]
  },
  {
   "cell_type": "markdown",
   "id": "39a3d71f",
   "metadata": {},
   "source": [
    "Question 4 :\n",
    "This Triangular Number Sequence is generated from a pattern of dots that form a triangle. The first 5 numbers of the sequence, or dots, are: \n",
    "1, 3, 6, 10, 15\n",
    "This means that the first triangle has just one dot, the second one has three dots, the third one has 6 dots and so on.\n",
    "Write a function that gives the number of dots with its corresponding triangle number of the sequence.\n"
   ]
  },
  {
   "cell_type": "code",
   "execution_count": 47,
   "id": "23257746",
   "metadata": {},
   "outputs": [],
   "source": [
    "def triangle(a):\n",
    "    \"\"\"This function takes a integer and return the number of dots with its corresponding triangle number of sequences\"\"\"\n",
    "    try:\n",
    "        if type(a)==int:\n",
    "            \n",
    "            if a>0 and a!=0: #checking if a is 0 or less than 0\n",
    "                if a==1:\n",
    "                    return 1\n",
    "                else:\n",
    "                    x = 1\n",
    "                    for i in range(2,a+1):\n",
    "                        x = x+i\n",
    "                    \n",
    "                    return x\n",
    "                        \n",
    "            else:\n",
    "                raise Exception('Pass integer greater than 0')\n",
    "            \n",
    "        else:\n",
    "            raise Exception('Pass integer argument')\n",
    "            \n",
    "    except Exception as ee:\n",
    "        print(ee)"
   ]
  },
  {
   "cell_type": "code",
   "execution_count": 48,
   "id": "cdd89bc7",
   "metadata": {},
   "outputs": [
    {
     "data": {
      "text/plain": [
       "1"
      ]
     },
     "execution_count": 48,
     "metadata": {},
     "output_type": "execute_result"
    }
   ],
   "source": [
    "triangle(1)"
   ]
  },
  {
   "cell_type": "code",
   "execution_count": 49,
   "id": "db1b14da",
   "metadata": {},
   "outputs": [
    {
     "data": {
      "text/plain": [
       "21"
      ]
     },
     "execution_count": 49,
     "metadata": {},
     "output_type": "execute_result"
    }
   ],
   "source": [
    "triangle(6)"
   ]
  },
  {
   "cell_type": "code",
   "execution_count": 50,
   "id": "cf5524a0",
   "metadata": {},
   "outputs": [
    {
     "data": {
      "text/plain": [
       "23220"
      ]
     },
     "execution_count": 50,
     "metadata": {},
     "output_type": "execute_result"
    }
   ],
   "source": [
    "triangle(215)"
   ]
  },
  {
   "cell_type": "code",
   "execution_count": null,
   "id": "bd0a343b",
   "metadata": {},
   "outputs": [],
   "source": []
  },
  {
   "cell_type": "code",
   "execution_count": null,
   "id": "cd1aafb6",
   "metadata": {},
   "outputs": [],
   "source": []
  }
 ],
 "metadata": {
  "kernelspec": {
   "display_name": "Python 3 (ipykernel)",
   "language": "python",
   "name": "python3"
  },
  "language_info": {
   "codemirror_mode": {
    "name": "ipython",
    "version": 3
   },
   "file_extension": ".py",
   "mimetype": "text/x-python",
   "name": "python",
   "nbconvert_exporter": "python",
   "pygments_lexer": "ipython3",
   "version": "3.9.7"
  }
 },
 "nbformat": 4,
 "nbformat_minor": 5
}
