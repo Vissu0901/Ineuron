{
 "cells": [
  {
   "cell_type": "markdown",
   "id": "fe1f93ea",
   "metadata": {},
   "source": [
    "Question 1: Create a function that takes three parameters where:\n",
    " x is the start of the range (inclusive).\n",
    " y is the end of the range (inclusive).\n",
    " n is the divisor to be checked against.\n",
    "Return an ordered list with numbers in the range that are divisible by the third parameter n.\n",
    "Return an empty list if there are no numbers that are divisible by n."
   ]
  },
  {
   "cell_type": "code",
   "execution_count": 1,
   "id": "1f383260",
   "metadata": {},
   "outputs": [],
   "source": [
    "def list_operation(x,y,n):\n",
    "    \"\"\"This function will take three integer arguments x-start range, y-end range and n-divisor and return list of numbers\n",
    "    divisible in the range\"\"\"\n",
    "    try:\n",
    "        if type(x)==int and type(y)==int and type(n)==int:\n",
    "            new_list=[]\n",
    "            \n",
    "            for i in range(x,y+1):\n",
    "                if i%n==0:\n",
    "                    new_list.append(i)\n",
    "                    \n",
    "            return new_list\n",
    "        else:\n",
    "            raise Exception('pass integers')\n",
    "    except Exception as ee:\n",
    "        print(ee)"
   ]
  },
  {
   "cell_type": "code",
   "execution_count": 2,
   "id": "350f8f4e",
   "metadata": {},
   "outputs": [
    {
     "data": {
      "text/plain": [
       "[3, 6, 9]"
      ]
     },
     "execution_count": 2,
     "metadata": {},
     "output_type": "execute_result"
    }
   ],
   "source": [
    "list_operation(1,10,3)"
   ]
  },
  {
   "cell_type": "code",
   "execution_count": 3,
   "id": "4eb1fb88",
   "metadata": {},
   "outputs": [
    {
     "data": {
      "text/plain": [
       "[8]"
      ]
     },
     "execution_count": 3,
     "metadata": {},
     "output_type": "execute_result"
    }
   ],
   "source": [
    "list_operation(7,9,2)"
   ]
  },
  {
   "cell_type": "code",
   "execution_count": 4,
   "id": "1367c793",
   "metadata": {},
   "outputs": [
    {
     "data": {
      "text/plain": [
       "[]"
      ]
     },
     "execution_count": 4,
     "metadata": {},
     "output_type": "execute_result"
    }
   ],
   "source": [
    "list_operation(50,20,7)"
   ]
  },
  {
   "cell_type": "markdown",
   "id": "129b944a",
   "metadata": {},
   "source": [
    "Question3 :\n",
    "A group of friends have decided to start a secret society. The name will be the first letter of\n",
    "each of their names, sorted in alphabetical order.\n",
    "Create a function that takes in a list of names and returns the name of the secret society."
   ]
  },
  {
   "cell_type": "code",
   "execution_count": 5,
   "id": "d0216a44",
   "metadata": {},
   "outputs": [],
   "source": [
    "def society_name(names):\n",
    "    \"\"\"This function will take list of names in string format and returns society name based on first letter of each name\n",
    "    and sorted in alphabetical order\"\"\"\n",
    "    try:\n",
    "        if type(names)==list:\n",
    "            new_list=[]\n",
    "            \n",
    "            for i in names:\n",
    "                if type(i)==str:\n",
    "                    new_list.append(i[0])\n",
    "                else:\n",
    "                    raise Exception('Pass names in format of listed string')\n",
    "                    \n",
    "            sorted_list = sorted(new_list)\n",
    "            soc_name = \"\"\n",
    "            \n",
    "            for j in sorted_list:\n",
    "                soc_name = soc_name + j\n",
    "            \n",
    "            return soc_name\n",
    "        else:\n",
    "            raise Exception('Pass names in list format')\n",
    "    except Exception as ee:\n",
    "        print(ee)"
   ]
  },
  {
   "cell_type": "code",
   "execution_count": 6,
   "id": "f989ae01",
   "metadata": {},
   "outputs": [
    {
     "data": {
      "text/plain": [
       "'AMS'"
      ]
     },
     "execution_count": 6,
     "metadata": {},
     "output_type": "execute_result"
    }
   ],
   "source": [
    "society_name([\"Adam\",\"Sarah\",\"Malcolm\"])"
   ]
  },
  {
   "cell_type": "code",
   "execution_count": 7,
   "id": "869dc237",
   "metadata": {},
   "outputs": [
    {
     "data": {
      "text/plain": [
       "'CHLN'"
      ]
     },
     "execution_count": 7,
     "metadata": {},
     "output_type": "execute_result"
    }
   ],
   "source": [
    "society_name([\"Harry\",\"Newt\",\"Luna\",\"Cho\"])"
   ]
  },
  {
   "cell_type": "code",
   "execution_count": 8,
   "id": "eee9d858",
   "metadata": {},
   "outputs": [
    {
     "data": {
      "text/plain": [
       "'CJMPRR'"
      ]
     },
     "execution_count": 8,
     "metadata": {},
     "output_type": "execute_result"
    }
   ],
   "source": [
    "society_name([\"Phoebe\",\"Chandler\",\"Rachel\",\"Ross\",\"Monica\",\"Joey\"])"
   ]
  },
  {
   "cell_type": "markdown",
   "id": "3a5cbd7f",
   "metadata": {},
   "source": [
    "Question 4 :\n",
    "An isogram is a word that has no duplicate letters. Create a function that takes a string and\n",
    "returns either True or False depending on whether or not it&#39;s an &quot;isogram&quot;."
   ]
  },
  {
   "cell_type": "code",
   "execution_count": 9,
   "id": "d9ab8e46",
   "metadata": {},
   "outputs": [],
   "source": [
    "def is_isogram(txt):\n",
    "    \"\"\"This function will take a single string arugment and returns True or False depending on whether or not its an\n",
    "    isogram\"\"\"\n",
    "    try:\n",
    "        if type(txt)==str:\n",
    "            txt_1 = []\n",
    "            \n",
    "            for i in txt.lower():\n",
    "                txt_1.append(i)\n",
    "                \n",
    "            txt_2 = set(txt_1)\n",
    "            \n",
    "            if len(txt)==len(txt_2):\n",
    "                return True\n",
    "            else:\n",
    "                return False\n",
    "        else:\n",
    "            raise Exception('Pass single string argument')\n",
    "    except Exception as ee:\n",
    "        print(ee)"
   ]
  },
  {
   "cell_type": "code",
   "execution_count": 10,
   "id": "b15d9d6b",
   "metadata": {},
   "outputs": [
    {
     "data": {
      "text/plain": [
       "True"
      ]
     },
     "execution_count": 10,
     "metadata": {},
     "output_type": "execute_result"
    }
   ],
   "source": [
    "is_isogram(\"Algorism\")"
   ]
  },
  {
   "cell_type": "code",
   "execution_count": 11,
   "id": "c459232d",
   "metadata": {},
   "outputs": [
    {
     "data": {
      "text/plain": [
       "False"
      ]
     },
     "execution_count": 11,
     "metadata": {},
     "output_type": "execute_result"
    }
   ],
   "source": [
    "is_isogram(\"PasSword\")"
   ]
  },
  {
   "cell_type": "code",
   "execution_count": 12,
   "id": "c6409b31",
   "metadata": {},
   "outputs": [
    {
     "data": {
      "text/plain": [
       "False"
      ]
     },
     "execution_count": 12,
     "metadata": {},
     "output_type": "execute_result"
    }
   ],
   "source": [
    "is_isogram(\"Consecutive\")"
   ]
  },
  {
   "cell_type": "markdown",
   "id": "e9c276c2",
   "metadata": {},
   "source": [
    "Question 5 :\n",
    "Create a function that takes a string and returns True or False, depending on whether the\n",
    "characters are in order or not."
   ]
  },
  {
   "cell_type": "code",
   "execution_count": 13,
   "id": "d9b91034",
   "metadata": {},
   "outputs": [],
   "source": [
    "def is_in_order(text):\n",
    "    \"\"\"This function will take single string argument and return True or False depending on whether the characters\n",
    "    are in order or not\"\"\"\n",
    "    try:\n",
    "        if type(text)==str:\n",
    "            \n",
    "            if len(text)>0:\n",
    "                new_text = sorted(text)\n",
    "                order_text = \"\"\n",
    "            \n",
    "                for i in new_text:\n",
    "                    order_text = order_text+i\n",
    "            \n",
    "                if text == order_text:\n",
    "                    return True\n",
    "                else:\n",
    "                    return False\n",
    "            else:\n",
    "                raise Exception('Your string is empty')\n",
    "        else:\n",
    "            raise Exception('Pass single argument in string format')\n",
    "    except Exception as ee:\n",
    "        print(ee)"
   ]
  },
  {
   "cell_type": "code",
   "execution_count": 14,
   "id": "8b3730d7",
   "metadata": {},
   "outputs": [
    {
     "data": {
      "text/plain": [
       "True"
      ]
     },
     "execution_count": 14,
     "metadata": {},
     "output_type": "execute_result"
    }
   ],
   "source": [
    "is_in_order(\"abc\")"
   ]
  },
  {
   "cell_type": "code",
   "execution_count": 15,
   "id": "ac8ffe5a",
   "metadata": {},
   "outputs": [
    {
     "data": {
      "text/plain": [
       "False"
      ]
     },
     "execution_count": 15,
     "metadata": {},
     "output_type": "execute_result"
    }
   ],
   "source": [
    "is_in_order(\"edabit\")"
   ]
  },
  {
   "cell_type": "code",
   "execution_count": 16,
   "id": "907f2166",
   "metadata": {},
   "outputs": [
    {
     "data": {
      "text/plain": [
       "True"
      ]
     },
     "execution_count": 16,
     "metadata": {},
     "output_type": "execute_result"
    }
   ],
   "source": [
    "is_in_order(\"123\")"
   ]
  },
  {
   "cell_type": "code",
   "execution_count": 17,
   "id": "97b49284",
   "metadata": {},
   "outputs": [
    {
     "data": {
      "text/plain": [
       "True"
      ]
     },
     "execution_count": 17,
     "metadata": {},
     "output_type": "execute_result"
    }
   ],
   "source": [
    "is_in_order(\"xyzz\")"
   ]
  },
  {
   "cell_type": "code",
   "execution_count": 18,
   "id": "7bf5809e",
   "metadata": {},
   "outputs": [
    {
     "name": "stdout",
     "output_type": "stream",
     "text": [
      "Your string is empty\n"
     ]
    }
   ],
   "source": [
    "is_in_order(\"\")"
   ]
  },
  {
   "cell_type": "markdown",
   "id": "17981da9",
   "metadata": {},
   "source": [
    "Question 2 :\n",
    "Create a function that takes in two lists and returns True if the second list follows the first list\n",
    "by one element, and False otherwise. In other words, determine if the second list is the first\n",
    "list shifted to the right by 1."
   ]
  },
  {
   "cell_type": "code",
   "execution_count": 45,
   "id": "cbaaa8f2",
   "metadata": {},
   "outputs": [],
   "source": [
    "def simon_says(l1,l2):\n",
    "    \"\"\"This function takes two arguments in format of list of integers, and return True if the 2nd list follows the first\n",
    "    list by one element, and False otherwise.\"\"\"\n",
    "    try:\n",
    "        if type(l1)==list and type(l2)==list:\n",
    "            \n",
    "            l = l1+l2\n",
    "            for i in l:\n",
    "                if type(i)!=int:\n",
    "                    raise Exception('Pass list of integers')\n",
    "                    break\n",
    "            \n",
    "            s1 = set(l1)\n",
    "            s2 = set(l2)\n",
    "            \n",
    "            l3 = list(s1)+list(s2)\n",
    "            \n",
    "            if len(l)==len(l3):\n",
    "                return True\n",
    "            else:\n",
    "                return False\n",
    "            \n",
    "        else:\n",
    "            raise Exception('Pass arguments in list format')\n",
    "    except Exception as ee:\n",
    "        print(ee)"
   ]
  },
  {
   "cell_type": "code",
   "execution_count": 46,
   "id": "9bd5e27b",
   "metadata": {},
   "outputs": [
    {
     "data": {
      "text/plain": [
       "True"
      ]
     },
     "execution_count": 46,
     "metadata": {},
     "output_type": "execute_result"
    }
   ],
   "source": [
    "simon_says([1,2],[5,1])"
   ]
  },
  {
   "cell_type": "code",
   "execution_count": 47,
   "id": "71def22b",
   "metadata": {},
   "outputs": [
    {
     "data": {
      "text/plain": [
       "False"
      ]
     },
     "execution_count": 47,
     "metadata": {},
     "output_type": "execute_result"
    }
   ],
   "source": [
    "simon_says([1,2],[5,5])"
   ]
  },
  {
   "cell_type": "code",
   "execution_count": 48,
   "id": "1d0becd1",
   "metadata": {},
   "outputs": [
    {
     "data": {
      "text/plain": [
       "True"
      ]
     },
     "execution_count": 48,
     "metadata": {},
     "output_type": "execute_result"
    }
   ],
   "source": [
    "simon_says([1,2,3,4,5],[0,1,2,3,4])"
   ]
  },
  {
   "cell_type": "code",
   "execution_count": 49,
   "id": "f23a492e",
   "metadata": {},
   "outputs": [
    {
     "data": {
      "text/plain": [
       "False"
      ]
     },
     "execution_count": 49,
     "metadata": {},
     "output_type": "execute_result"
    }
   ],
   "source": [
    "simon_says([1,2,3,4,5],[5,5,1,2,3])"
   ]
  },
  {
   "cell_type": "code",
   "execution_count": null,
   "id": "98d63c05",
   "metadata": {},
   "outputs": [],
   "source": []
  }
 ],
 "metadata": {
  "kernelspec": {
   "display_name": "Python 3 (ipykernel)",
   "language": "python",
   "name": "python3"
  },
  "language_info": {
   "codemirror_mode": {
    "name": "ipython",
    "version": 3
   },
   "file_extension": ".py",
   "mimetype": "text/x-python",
   "name": "python",
   "nbconvert_exporter": "python",
   "pygments_lexer": "ipython3",
   "version": "3.9.7"
  }
 },
 "nbformat": 4,
 "nbformat_minor": 5
}
