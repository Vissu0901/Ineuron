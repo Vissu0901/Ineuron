{
 "cells": [
  {
   "cell_type": "code",
   "execution_count": 14,
   "id": "b22b5af0",
   "metadata": {},
   "outputs": [],
   "source": [
    "#to find lcm of 2 numbers\n",
    "def find_lcm(a,b):\n",
    "    \"\"\"This function we return lcm of two numbers\"\"\"\n",
    "    try:\n",
    "        if a>b:\n",
    "            grt = a\n",
    "        else:\n",
    "            grt = b\n",
    "\n",
    "        while(True):\n",
    "            if((grt%a==0) and (grt%b==0)):\n",
    "                lcm = grt\n",
    "                break\n",
    "            grt+=1\n",
    "\n",
    "        return lcm\n",
    "    except Exception as ee:\n",
    "        print(ee)\n"
   ]
  },
  {
   "cell_type": "code",
   "execution_count": 15,
   "id": "824defb5",
   "metadata": {},
   "outputs": [
    {
     "data": {
      "text/plain": [
       "15"
      ]
     },
     "execution_count": 15,
     "metadata": {},
     "output_type": "execute_result"
    }
   ],
   "source": [
    "find_lcm(3,5)"
   ]
  },
  {
   "cell_type": "code",
   "execution_count": 20,
   "id": "f082042d",
   "metadata": {},
   "outputs": [],
   "source": [
    "#to find hcf of two numbers\n",
    "def find_hcf(a, b):\n",
    "    \"\"\"This function will return hcf of two numbers\"\"\"\n",
    "    try:\n",
    "        if a > b:\n",
    "            small = b\n",
    "        else:\n",
    "            small = a\n",
    "        for i in range(1, small+1):\n",
    "            if((a % i == 0) and (b % i == 0)):\n",
    "                hcf = i \n",
    "        return hcf\n",
    "    except Exception as ee:\n",
    "        print(ee)"
   ]
  },
  {
   "cell_type": "code",
   "execution_count": 22,
   "id": "935077ad",
   "metadata": {},
   "outputs": [
    {
     "data": {
      "text/plain": [
       "2"
      ]
     },
     "execution_count": 22,
     "metadata": {},
     "output_type": "execute_result"
    }
   ],
   "source": [
    "find_hcf(6,8)"
   ]
  },
  {
   "cell_type": "code",
   "execution_count": 23,
   "id": "f2d618ee",
   "metadata": {},
   "outputs": [],
   "source": [
    "#to convert decimal into octal, binary and hexadecimal\n",
    "def convert_decimal(a):\n",
    "    \"\"\"This function will take single argument and converts into binary, octal and hexadecimal\"\"\"\n",
    "    try:\n",
    "        binary = bin(a)\n",
    "        octal = oct(a)\n",
    "        hexa = hex(a)\n",
    "        result = str(a)+\" decimal = \"+\"Binary: \"+str(binary)+\", Octal: \"+str(octal)+\", Hexadecimal: \"+str(hexa)\n",
    "        return result\n",
    "    except Exception as ee:\n",
    "        print(ee)"
   ]
  },
  {
   "cell_type": "code",
   "execution_count": 24,
   "id": "38e858ee",
   "metadata": {},
   "outputs": [
    {
     "data": {
      "text/plain": [
       "'9 decimal = Binary: 0b1001, Octal: 0o11, Hexadecimal: 0x9'"
      ]
     },
     "execution_count": 24,
     "metadata": {},
     "output_type": "execute_result"
    }
   ],
   "source": [
    "convert_decimal(9)"
   ]
  },
  {
   "cell_type": "code",
   "execution_count": 43,
   "id": "e861878f",
   "metadata": {},
   "outputs": [],
   "source": [
    "#to find ASCII value of a character\n",
    "def find_ascii(a):\n",
    "    \"\"\"This function will take single argument and finds ASCII value of a character\"\"\"\n",
    "    try:\n",
    "        result = \"The ASCII value of '\" + a + \"' is\", ord(a)\n",
    "        return result\n",
    "    except Exception as ee:\n",
    "        print(ee)\n",
    "    "
   ]
  },
  {
   "cell_type": "code",
   "execution_count": 46,
   "id": "df9e6211",
   "metadata": {},
   "outputs": [
    {
     "data": {
      "text/plain": [
       "(\"The ASCII value of 's' is\", 115)"
      ]
     },
     "execution_count": 46,
     "metadata": {},
     "output_type": "execute_result"
    }
   ],
   "source": [
    "find_ascii('s')"
   ]
  },
  {
   "cell_type": "code",
   "execution_count": 52,
   "id": "aa5618d6",
   "metadata": {},
   "outputs": [],
   "source": [
    "# to make a Simple Calculator with 4 basic mathematical operations\n",
    "def simple_calc(a,b):\n",
    "    \"\"\"This function will take two arguments and return basic mathematical operations like: Addition, Subtraction,\n",
    "    Multiplication and Division\"\"\"\n",
    "    try:\n",
    "        add = a+b\n",
    "        sub = a-b\n",
    "        mul = a*b\n",
    "        div = a/b\n",
    "        \n",
    "        result = \"Addition = \" + str(add) + \", Subtraction = \" + str(sub) + \", Multiplication = \" +str(mul) + \", Division = \" + str(div)\n",
    "        return result\n",
    "        \n",
    "    except Exception as ee:\n",
    "        print(ee)"
   ]
  },
  {
   "cell_type": "code",
   "execution_count": 53,
   "id": "974e4c9e",
   "metadata": {},
   "outputs": [
    {
     "data": {
      "text/plain": [
       "'Addition = 5, Subtraction = -1, Multiplication = 6, Division = 0.6666666666666666'"
      ]
     },
     "execution_count": 53,
     "metadata": {},
     "output_type": "execute_result"
    }
   ],
   "source": [
    "simple_calc(2,3)"
   ]
  },
  {
   "cell_type": "code",
   "execution_count": null,
   "id": "f617ca03",
   "metadata": {},
   "outputs": [],
   "source": []
  }
 ],
 "metadata": {
  "kernelspec": {
   "display_name": "Python 3 (ipykernel)",
   "language": "python",
   "name": "python3"
  },
  "language_info": {
   "codemirror_mode": {
    "name": "ipython",
    "version": 3
   },
   "file_extension": ".py",
   "mimetype": "text/x-python",
   "name": "python",
   "nbconvert_exporter": "python",
   "pygments_lexer": "ipython3",
   "version": "3.9.7"
  }
 },
 "nbformat": 4,
 "nbformat_minor": 5
}
