{
 "cells": [
  {
   "cell_type": "code",
   "execution_count": 7,
   "id": "fbf433d9",
   "metadata": {},
   "outputs": [],
   "source": [
    "#function will display factorial\n",
    "def factorial_fun(*args):\n",
    "    \"\"\"This function will return the list of factorial number of the given number\"\"\"\n",
    "    f=[]\n",
    "    try:\n",
    "        for i in args:\n",
    "            if i>0:\n",
    "                count = 1\n",
    "                for j in range(1,i+1):\n",
    "                    count = count * j\n",
    "                f.append(count)\n",
    "            else:\n",
    "                if i==0:\n",
    "                    print(\"you have entered 0\")\n",
    "                else:\n",
    "                    print(i,\" is a negitive number\")\n",
    "        return f\n",
    "    except:\n",
    "        print(\"enter valid data\")"
   ]
  },
  {
   "cell_type": "code",
   "execution_count": 35,
   "id": "ecd2d7eb",
   "metadata": {},
   "outputs": [
    {
     "data": {
      "text/plain": [
       "[1, 2, 6, 24, 120, 720, 5040, 5040]"
      ]
     },
     "execution_count": 35,
     "metadata": {},
     "output_type": "execute_result"
    }
   ],
   "source": [
    "factorial_fun(1,2,3,4,5,6,7,7)"
   ]
  },
  {
   "cell_type": "code",
   "execution_count": 37,
   "id": "d1056172",
   "metadata": {},
   "outputs": [],
   "source": [
    "#function will display multiplication tables\n",
    "def multiplication_table(*args):\n",
    "    \"\"\"This function will return the multiplication of tables in none format\"\"\"\n",
    "    try:\n",
    "        for i in args:\n",
    "            for j in range(1,11):\n",
    "                r = i*j\n",
    "                a = str(i)\n",
    "                b = str(j)\n",
    "                c = str(r)\n",
    "                print(a,\"X\",b,\"=\",c)\n",
    "            print(\"------------------------\")\n",
    "    except:\n",
    "        print(\"enter valid data\")"
   ]
  },
  {
   "cell_type": "code",
   "execution_count": 39,
   "id": "76503dfd",
   "metadata": {},
   "outputs": [
    {
     "name": "stdout",
     "output_type": "stream",
     "text": [
      "2 X 1 = 2\n",
      "2 X 2 = 4\n",
      "2 X 3 = 6\n",
      "2 X 4 = 8\n",
      "2 X 5 = 10\n",
      "2 X 6 = 12\n",
      "2 X 7 = 14\n",
      "2 X 8 = 16\n",
      "2 X 9 = 18\n",
      "2 X 10 = 20\n",
      "------------------------\n",
      "3 X 1 = 3\n",
      "3 X 2 = 6\n",
      "3 X 3 = 9\n",
      "3 X 4 = 12\n",
      "3 X 5 = 15\n",
      "3 X 6 = 18\n",
      "3 X 7 = 21\n",
      "3 X 8 = 24\n",
      "3 X 9 = 27\n",
      "3 X 10 = 30\n",
      "------------------------\n",
      "5 X 1 = 5\n",
      "5 X 2 = 10\n",
      "5 X 3 = 15\n",
      "5 X 4 = 20\n",
      "5 X 5 = 25\n",
      "5 X 6 = 30\n",
      "5 X 7 = 35\n",
      "5 X 8 = 40\n",
      "5 X 9 = 45\n",
      "5 X 10 = 50\n",
      "------------------------\n"
     ]
    }
   ],
   "source": [
    "multiplication_table(2,3,5)"
   ]
  },
  {
   "cell_type": "code",
   "execution_count": 1,
   "id": "4faca48a",
   "metadata": {},
   "outputs": [],
   "source": [
    "#function to print fibonacci series\n",
    "def fibonacci_series(a):\n",
    "    \"\"\"This function will return list of fibonacci series\"\"\"\n",
    "    try:\n",
    "        l = []\n",
    "        count1 = 0\n",
    "        count2 = 1\n",
    "        l.append(count1)\n",
    "        l.append(count2)\n",
    "        for i in range(2,a):\n",
    "            count = l[i-1]+l[i-2]\n",
    "            l.append(count)\n",
    "        return l\n",
    "    except Exception as ee:\n",
    "        print(\"your exception : \",ee)"
   ]
  },
  {
   "cell_type": "code",
   "execution_count": 2,
   "id": "307a371b",
   "metadata": {},
   "outputs": [
    {
     "data": {
      "text/plain": [
       "[0, 1, 1, 2, 3, 5, 8, 13, 21]"
      ]
     },
     "execution_count": 2,
     "metadata": {},
     "output_type": "execute_result"
    }
   ],
   "source": [
    "fibonacci_series(9)"
   ]
  },
  {
   "cell_type": "code",
   "execution_count": 29,
   "id": "e6c560df",
   "metadata": {},
   "outputs": [],
   "source": [
    "#sum of natural numbers\n",
    "def sum_of_natural_num(*args):\n",
    "    \"\"\"This function will return sum of natural number\"\"\"\n",
    "    try:\n",
    "        l = []\n",
    "        for i in args:\n",
    "            res1 = i+1\n",
    "            res2 = i*res1\n",
    "            result = res2/2\n",
    "            l.append(result)\n",
    "        return l\n",
    "    except Exception as ee:\n",
    "        print(\"your exception : \",ee)\n",
    "       "
   ]
  },
  {
   "cell_type": "code",
   "execution_count": 31,
   "id": "d0805f27",
   "metadata": {},
   "outputs": [
    {
     "data": {
      "text/plain": [
       "[10.0, 45.0, 3.0, 15.0]"
      ]
     },
     "execution_count": 31,
     "metadata": {},
     "output_type": "execute_result"
    }
   ],
   "source": [
    "sum_of_natural_num(4,9,2,5)"
   ]
  },
  {
   "cell_type": "code",
   "execution_count": 12,
   "id": "79f69577",
   "metadata": {},
   "outputs": [],
   "source": [
    "# to check armstrong number or not\n",
    "\n",
    "def check_armstrong(a):\n",
    "    sum1 = 0\n",
    "    temp = a\n",
    "    \n",
    "    try:\n",
    "        while temp > 0:\n",
    "            digit = temp % 10\n",
    "            sum1 += digit ** 3\n",
    "            temp //= 10\n",
    "        if a == sum1:\n",
    "            print(a,\" is an Armstrong number\")\n",
    "        else:\n",
    "            print(a,\" is not an Armstrong number\")\n",
    "    \n",
    "    except Exception as ee:\n",
    "        print(ee)"
   ]
  },
  {
   "cell_type": "code",
   "execution_count": 13,
   "id": "825d5366",
   "metadata": {},
   "outputs": [
    {
     "name": "stdout",
     "output_type": "stream",
     "text": [
      "407  is an Armstrong number\n"
     ]
    }
   ],
   "source": [
    "check_armstrong(407)"
   ]
  },
  {
   "cell_type": "code",
   "execution_count": 14,
   "id": "ea3cbc84",
   "metadata": {},
   "outputs": [
    {
     "name": "stdout",
     "output_type": "stream",
     "text": [
      "365  is not an Armstrong number\n"
     ]
    }
   ],
   "source": [
    "check_armstrong(365)"
   ]
  },
  {
   "cell_type": "code",
   "execution_count": 25,
   "id": "2defb106",
   "metadata": {},
   "outputs": [
    {
     "name": "stdout",
     "output_type": "stream",
     "text": [
      "153  is an Armstrong number\n"
     ]
    }
   ],
   "source": [
    "check_armstrong(153)"
   ]
  },
  {
   "cell_type": "code",
   "execution_count": 19,
   "id": "bf64adbd",
   "metadata": {},
   "outputs": [],
   "source": [
    "#to check armstrong numbers between intervals\n",
    "\n",
    "def check_interval_armstrong(start,end):\n",
    "    \"\"\"This function will return list of armstrong numbers between an interval\"\"\"\n",
    "    l=[]\n",
    "    for i in range(start,end+1):\n",
    "        sum1 = 0\n",
    "        temp = i\n",
    "        try:\n",
    "            while temp > 0:\n",
    "                digit = temp%10\n",
    "                sum1 += digit**3\n",
    "                temp//=10\n",
    "            if i==sum1:\n",
    "                l.append(i)\n",
    "        except Exception as ee:\n",
    "            print(ee)\n",
    "    print(l)"
   ]
  },
  {
   "cell_type": "code",
   "execution_count": 26,
   "id": "122473f7",
   "metadata": {},
   "outputs": [
    {
     "name": "stdout",
     "output_type": "stream",
     "text": [
      "[1, 153, 370, 371, 407]\n"
     ]
    }
   ],
   "source": [
    "check_interval_armstrong(1,10000)"
   ]
  },
  {
   "cell_type": "code",
   "execution_count": null,
   "id": "fc1174e3",
   "metadata": {},
   "outputs": [],
   "source": []
  }
 ],
 "metadata": {
  "kernelspec": {
   "display_name": "Python 3 (ipykernel)",
   "language": "python",
   "name": "python3"
  },
  "language_info": {
   "codemirror_mode": {
    "name": "ipython",
    "version": 3
   },
   "file_extension": ".py",
   "mimetype": "text/x-python",
   "name": "python",
   "nbconvert_exporter": "python",
   "pygments_lexer": "ipython3",
   "version": "3.9.7"
  }
 },
 "nbformat": 4,
 "nbformat_minor": 5
}
