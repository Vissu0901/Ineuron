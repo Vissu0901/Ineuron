{
 "cells": [
  {
   "cell_type": "markdown",
   "id": "593f7b9e",
   "metadata": {},
   "source": [
    "Question 1 :\n",
    "Create a function that takes a number as an argument and returns True or False depending on whether the number is symmetrical or not. A number is symmetrical when it is the same as its reverse."
   ]
  },
  {
   "cell_type": "code",
   "execution_count": 14,
   "id": "2f3d9190",
   "metadata": {},
   "outputs": [],
   "source": [
    "def is_symmetrical(num):\n",
    "    \"\"\"This function takes a number as an argument and returns True or False depending on whether the number is\n",
    "    symmetrical or not\"\"\"\n",
    "    try:\n",
    "        if type(num)==int: #checks num is integer or not\n",
    "            l=[]\n",
    "            s = str(num) #converts num into string format\n",
    "            for i in s:\n",
    "                l.append(int(i)) #stores into list of integers\n",
    "            \n",
    "            l1 = l[::-1] #reverses the list of elements\n",
    "            l2 = []\n",
    "            \n",
    "            for j in l1:\n",
    "                l2.append(str(j)) #stores in other list in str format\n",
    "                \n",
    "            s1 = \"\"\n",
    "            for k in l2:\n",
    "                s1 = s1+k #concating reversed list\n",
    "            \n",
    "            if num == int(s1): #checking num and reversed num\n",
    "                return True\n",
    "            else:\n",
    "                return False\n",
    "                \n",
    "        else:\n",
    "            raise Exception('Pass integer argument')\n",
    "    except Exception as ee:\n",
    "        print(ee)"
   ]
  },
  {
   "cell_type": "code",
   "execution_count": 16,
   "id": "b14e4a61",
   "metadata": {},
   "outputs": [
    {
     "data": {
      "text/plain": [
       "True"
      ]
     },
     "execution_count": 16,
     "metadata": {},
     "output_type": "execute_result"
    }
   ],
   "source": [
    "is_symmetrical(7227)"
   ]
  },
  {
   "cell_type": "code",
   "execution_count": 17,
   "id": "c8886d33",
   "metadata": {},
   "outputs": [
    {
     "data": {
      "text/plain": [
       "False"
      ]
     },
     "execution_count": 17,
     "metadata": {},
     "output_type": "execute_result"
    }
   ],
   "source": [
    "is_symmetrical(12567)"
   ]
  },
  {
   "cell_type": "code",
   "execution_count": 18,
   "id": "33973d26",
   "metadata": {},
   "outputs": [
    {
     "data": {
      "text/plain": [
       "True"
      ]
     },
     "execution_count": 18,
     "metadata": {},
     "output_type": "execute_result"
    }
   ],
   "source": [
    "is_symmetrical(44444444)"
   ]
  },
  {
   "cell_type": "code",
   "execution_count": 19,
   "id": "cd23dab4",
   "metadata": {},
   "outputs": [
    {
     "data": {
      "text/plain": [
       "False"
      ]
     },
     "execution_count": 19,
     "metadata": {},
     "output_type": "execute_result"
    }
   ],
   "source": [
    "is_symmetrical(9939)"
   ]
  },
  {
   "cell_type": "code",
   "execution_count": 32,
   "id": "61451731",
   "metadata": {},
   "outputs": [
    {
     "data": {
      "text/plain": [
       "True"
      ]
     },
     "execution_count": 32,
     "metadata": {},
     "output_type": "execute_result"
    }
   ],
   "source": [
    "is_symmetrical(1112111)"
   ]
  },
  {
   "cell_type": "markdown",
   "id": "285c078f",
   "metadata": {},
   "source": [
    "Question 2 :\n",
    "Given a string of numbers separated by a comma and space, return the product of the numbers."
   ]
  },
  {
   "cell_type": "code",
   "execution_count": 155,
   "id": "d3b9f12f",
   "metadata": {},
   "outputs": [],
   "source": [
    "def multiply_nums(num):\n",
    "    \"\"\"This function takes a string of numbers separated by a comma and space, returns the product of the numbers\"\"\"\n",
    "    try:\n",
    "        if type(num)==str:\n",
    "            \n",
    "            l = num.split(',')\n",
    "            \n",
    "            l1 = []\n",
    "            for i in l:\n",
    "                l1.append(int(i))\n",
    "            \n",
    "            result = 1\n",
    "            \n",
    "            for i in l1:\n",
    "                result = result * i\n",
    "                \n",
    "            return result\n",
    "                \n",
    "        else:\n",
    "            raise Exception('Pass a string of numbers separted by a comma and space')\n",
    "    except Exception as ee:\n",
    "        print(ee)"
   ]
  },
  {
   "cell_type": "code",
   "execution_count": 156,
   "id": "74dcd5c4",
   "metadata": {},
   "outputs": [
    {
     "data": {
      "text/plain": [
       "6"
      ]
     },
     "execution_count": 156,
     "metadata": {},
     "output_type": "execute_result"
    }
   ],
   "source": [
    "multiply_nums(\"2, 3\")"
   ]
  },
  {
   "cell_type": "code",
   "execution_count": 157,
   "id": "40fdc0eb",
   "metadata": {},
   "outputs": [
    {
     "data": {
      "text/plain": [
       "24"
      ]
     },
     "execution_count": 157,
     "metadata": {},
     "output_type": "execute_result"
    }
   ],
   "source": [
    "multiply_nums(\"1, 2, 3, 4\")"
   ]
  },
  {
   "cell_type": "code",
   "execution_count": 160,
   "id": "e0bfb67e",
   "metadata": {},
   "outputs": [
    {
     "data": {
      "text/plain": [
       "0"
      ]
     },
     "execution_count": 160,
     "metadata": {},
     "output_type": "execute_result"
    }
   ],
   "source": [
    "multiply_nums(\"54, 75, 453, 0\")"
   ]
  },
  {
   "cell_type": "code",
   "execution_count": 161,
   "id": "ed65d660",
   "metadata": {},
   "outputs": [
    {
     "data": {
      "text/plain": [
       "-20"
      ]
     },
     "execution_count": 161,
     "metadata": {},
     "output_type": "execute_result"
    }
   ],
   "source": [
    "multiply_nums(\"10, -2\")"
   ]
  },
  {
   "cell_type": "code",
   "execution_count": null,
   "id": "326a9661",
   "metadata": {},
   "outputs": [],
   "source": []
  },
  {
   "cell_type": "markdown",
   "id": "2478c29a",
   "metadata": {},
   "source": [
    "Question 3 :\n",
    "Create a function that squares every digit of a number.\n"
   ]
  },
  {
   "cell_type": "code",
   "execution_count": 64,
   "id": "c56cf942",
   "metadata": {},
   "outputs": [],
   "source": [
    "def square_digits(num):\n",
    "    \"\"\"This function return the squares of every digit of a number\"\"\"\n",
    "    try:\n",
    "        if type(num)==int:\n",
    "            \n",
    "            l = []\n",
    "            \n",
    "            for i in str(num): #stores each element of num in a list\n",
    "                l.append(i)\n",
    "                \n",
    "            result = \"\"\n",
    "            \n",
    "            for i in l:\n",
    "                n = int(i)**2\n",
    "                result = result + str(n) #converting elements in list to int and squaring and adding to result\n",
    "                \n",
    "            return int(result)\n",
    "            \n",
    "        else:\n",
    "            raise Exception('Pass integer argument')\n",
    "    except Exception as ee:\n",
    "        print(ee)"
   ]
  },
  {
   "cell_type": "code",
   "execution_count": 65,
   "id": "607ace13",
   "metadata": {},
   "outputs": [
    {
     "data": {
      "text/plain": [
       "811181"
      ]
     },
     "execution_count": 65,
     "metadata": {},
     "output_type": "execute_result"
    }
   ],
   "source": [
    "square_digits(9119)"
   ]
  },
  {
   "cell_type": "code",
   "execution_count": 67,
   "id": "c395e1bd",
   "metadata": {},
   "outputs": [
    {
     "data": {
      "text/plain": [
       "416649"
      ]
     },
     "execution_count": 67,
     "metadata": {},
     "output_type": "execute_result"
    }
   ],
   "source": [
    "square_digits(2483)"
   ]
  },
  {
   "cell_type": "code",
   "execution_count": 68,
   "id": "7a5166bf",
   "metadata": {},
   "outputs": [
    {
     "data": {
      "text/plain": [
       "9414"
      ]
     },
     "execution_count": 68,
     "metadata": {},
     "output_type": "execute_result"
    }
   ],
   "source": [
    "square_digits(3212)"
   ]
  },
  {
   "cell_type": "markdown",
   "id": "36b53093",
   "metadata": {},
   "source": [
    "Question 4 :\n",
    "Create a function that sorts a list and removes all duplicate items from it.\n"
   ]
  },
  {
   "cell_type": "code",
   "execution_count": 72,
   "id": "267cffd7",
   "metadata": {},
   "outputs": [],
   "source": [
    "def setify(l):\n",
    "    \"\"\"This function will take one argument in list of integers, sorts and removes all duplicate items and returns in \n",
    "    a list\"\"\"\n",
    "    try:\n",
    "        if type(l)==list: #checking type of l\n",
    "            \n",
    "            for i in l:\n",
    "                if type(i)!=int:\n",
    "                    raise Exception('Pass integers in list') #checking whether list contains any other formats except int\n",
    "            \n",
    "            l1 = set(l) #sorting and removing duplicates using set\n",
    "            \n",
    "            return list(l1)\n",
    "            \n",
    "        else:\n",
    "            raise Exception('Pass arguments in single list')\n",
    "    except Exception as ee:\n",
    "        print(ee)"
   ]
  },
  {
   "cell_type": "code",
   "execution_count": 76,
   "id": "4cdfe752",
   "metadata": {},
   "outputs": [
    {
     "data": {
      "text/plain": [
       "[1, 3, 5]"
      ]
     },
     "execution_count": 76,
     "metadata": {},
     "output_type": "execute_result"
    }
   ],
   "source": [
    "setify([1, 3, 3, 5])"
   ]
  },
  {
   "cell_type": "code",
   "execution_count": 77,
   "id": "ff1a9614",
   "metadata": {},
   "outputs": [
    {
     "data": {
      "text/plain": [
       "[4]"
      ]
     },
     "execution_count": 77,
     "metadata": {},
     "output_type": "execute_result"
    }
   ],
   "source": [
    "setify([4, 4, 4, 4])"
   ]
  },
  {
   "cell_type": "code",
   "execution_count": 78,
   "id": "a159fa04",
   "metadata": {},
   "outputs": [
    {
     "data": {
      "text/plain": [
       "[5, 7, 8, 9, 10, 15]"
      ]
     },
     "execution_count": 78,
     "metadata": {},
     "output_type": "execute_result"
    }
   ],
   "source": [
    "setify([5, 7, 8, 9, 10, 15])"
   ]
  },
  {
   "cell_type": "code",
   "execution_count": 79,
   "id": "0da6a24d",
   "metadata": {},
   "outputs": [
    {
     "data": {
      "text/plain": [
       "[1, 2, 3]"
      ]
     },
     "execution_count": 79,
     "metadata": {},
     "output_type": "execute_result"
    }
   ],
   "source": [
    "setify([3, 3, 3, 2, 1])"
   ]
  },
  {
   "cell_type": "markdown",
   "id": "46d98202",
   "metadata": {},
   "source": [
    "Question 5 :\n",
    "Create a function that returns the mean of all digits.\n"
   ]
  },
  {
   "cell_type": "code",
   "execution_count": 90,
   "id": "e8def165",
   "metadata": {},
   "outputs": [],
   "source": [
    "def mean(num):\n",
    "    \"\"\"This function takes single argument of integer and returns mean of all digits\"\"\"\n",
    "    try:\n",
    "        if type(num)==int: #checking type\n",
    "            \n",
    "            l=[]\n",
    "            for i in str(num): #storing num in digits to list\n",
    "                l.append(i)\n",
    "                \n",
    "            n = len(l) #number of digits\n",
    "            \n",
    "            m = 0\n",
    "            for i in l:\n",
    "                m = m+int(i) #addition of digits\n",
    "            \n",
    "            result = int(m/n) #mean\n",
    "            \n",
    "            return result\n",
    "            \n",
    "        else:\n",
    "            raise Exception('Pass integer argument')\n",
    "    except Exception as ee:\n",
    "        print(ee)"
   ]
  },
  {
   "cell_type": "code",
   "execution_count": 91,
   "id": "f8aa44fd",
   "metadata": {},
   "outputs": [
    {
     "data": {
      "text/plain": [
       "3"
      ]
     },
     "execution_count": 91,
     "metadata": {},
     "output_type": "execute_result"
    }
   ],
   "source": [
    "mean(42)"
   ]
  },
  {
   "cell_type": "code",
   "execution_count": 92,
   "id": "a9817a6e",
   "metadata": {},
   "outputs": [
    {
     "data": {
      "text/plain": [
       "3"
      ]
     },
     "execution_count": 92,
     "metadata": {},
     "output_type": "execute_result"
    }
   ],
   "source": [
    "mean(12345)"
   ]
  },
  {
   "cell_type": "code",
   "execution_count": 93,
   "id": "424c2db5",
   "metadata": {},
   "outputs": [
    {
     "data": {
      "text/plain": [
       "6"
      ]
     },
     "execution_count": 93,
     "metadata": {},
     "output_type": "execute_result"
    }
   ],
   "source": [
    "mean(666)"
   ]
  },
  {
   "cell_type": "code",
   "execution_count": null,
   "id": "d6d22045",
   "metadata": {},
   "outputs": [],
   "source": []
  }
 ],
 "metadata": {
  "kernelspec": {
   "display_name": "Python 3 (ipykernel)",
   "language": "python",
   "name": "python3"
  },
  "language_info": {
   "codemirror_mode": {
    "name": "ipython",
    "version": 3
   },
   "file_extension": ".py",
   "mimetype": "text/x-python",
   "name": "python",
   "nbconvert_exporter": "python",
   "pygments_lexer": "ipython3",
   "version": "3.9.7"
  }
 },
 "nbformat": 4,
 "nbformat_minor": 5
}
