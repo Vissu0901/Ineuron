{
 "cells": [
  {
   "cell_type": "markdown",
   "id": "8bb233bb",
   "metadata": {},
   "source": [
    "Question 1 :\n",
    "Create a function that takes three integer arguments (a, b, c) and returns the amount of integers which are of equal value.\n"
   ]
  },
  {
   "cell_type": "code",
   "execution_count": 12,
   "id": "c2b9a2a5",
   "metadata": {},
   "outputs": [],
   "source": [
    "def equal(a,b,c):\n",
    "    \"\"\"This function takes three integer arguments a,b,c and returns the amount of integers which are of equal value\"\"\"\n",
    "    try:\n",
    "        if type(a)==int and type(b)==int and type(c)==int:\n",
    "            \n",
    "            count = 0\n",
    "            if a==b and b==c and c==a: #checks all are equal values or not\n",
    "                count = 3\n",
    "            elif a==b or b==c or c==a: #checks any two equal values\n",
    "                count = 2\n",
    "            else:\n",
    "                count = 0\n",
    "                \n",
    "            return count\n",
    "              \n",
    "        else:\n",
    "            raise Exception('Pass integer arguments')\n",
    "    except Exception as ee:\n",
    "        print(ee)"
   ]
  },
  {
   "cell_type": "code",
   "execution_count": 13,
   "id": "5742e9df",
   "metadata": {},
   "outputs": [
    {
     "data": {
      "text/plain": [
       "2"
      ]
     },
     "execution_count": 13,
     "metadata": {},
     "output_type": "execute_result"
    }
   ],
   "source": [
    "equal(3, 4, 3)"
   ]
  },
  {
   "cell_type": "code",
   "execution_count": 18,
   "id": "edce665e",
   "metadata": {},
   "outputs": [
    {
     "data": {
      "text/plain": [
       "3"
      ]
     },
     "execution_count": 18,
     "metadata": {},
     "output_type": "execute_result"
    }
   ],
   "source": [
    "equal(1, 1, 1)"
   ]
  },
  {
   "cell_type": "code",
   "execution_count": 26,
   "id": "917c4262",
   "metadata": {},
   "outputs": [
    {
     "data": {
      "text/plain": [
       "0"
      ]
     },
     "execution_count": 26,
     "metadata": {},
     "output_type": "execute_result"
    }
   ],
   "source": [
    "equal(3, 4, 1)"
   ]
  },
  {
   "cell_type": "markdown",
   "id": "b5fbc74b",
   "metadata": {},
   "source": [
    "Question 2 :\n",
    "Write a function that converts a dictionary into a list of keys-values tuples."
   ]
  },
  {
   "cell_type": "code",
   "execution_count": 68,
   "id": "44774b34",
   "metadata": {},
   "outputs": [],
   "source": [
    "def dict_to_list(data):\n",
    "    \"\"\"This function converts a dictionary into a list of keys-values tuples, returns elements in alphabetical order\"\"\"\n",
    "    try:\n",
    "        if type(data)==dict:\n",
    "    \n",
    "            keys = list(data) #get list of keys\n",
    "            keys.sort()\n",
    "        \n",
    "            new_l = []\n",
    "            \n",
    "            for i in range(0,len(keys)): #converts key value pair into tuples\n",
    "                a = []\n",
    "                a.append(keys[i])\n",
    "                a.append(data[keys[i]])\n",
    "                \n",
    "                new_l.append(tuple(a))\n",
    "            \n",
    "            return new_l\n",
    "            \n",
    "        else:\n",
    "            raise Exception('Pass dictionary')\n",
    "    except Exception as ee:\n",
    "        print(ee)"
   ]
  },
  {
   "cell_type": "code",
   "execution_count": 69,
   "id": "6b6b9928",
   "metadata": {},
   "outputs": [
    {
     "data": {
      "text/plain": [
       "[('B', 2), ('C', 3), ('D', 1)]"
      ]
     },
     "execution_count": 69,
     "metadata": {},
     "output_type": "execute_result"
    }
   ],
   "source": [
    "dict_to_list({\n",
    "  \"D\": 1,\n",
    "  \"B\": 2,\n",
    "  \"C\": 3\n",
    "})\n"
   ]
  },
  {
   "cell_type": "code",
   "execution_count": 70,
   "id": "2631291c",
   "metadata": {},
   "outputs": [
    {
     "data": {
      "text/plain": [
       "[('dislikes', 3), ('followers', 10), ('likes', 2)]"
      ]
     },
     "execution_count": 70,
     "metadata": {},
     "output_type": "execute_result"
    }
   ],
   "source": [
    "dict_to_list({\n",
    "  \"likes\": 2,\n",
    "  \"dislikes\": 3,\n",
    "  \"followers\": 10\n",
    "})\n"
   ]
  },
  {
   "cell_type": "markdown",
   "id": "5e121c91",
   "metadata": {},
   "source": [
    "Question 3 :\n",
    "Write a function that creates a dictionary with each (key, value) pair being the (lower case, upper case) versions of a letter, respectively.\n"
   ]
  },
  {
   "cell_type": "code",
   "execution_count": 85,
   "id": "58d53bc7",
   "metadata": {},
   "outputs": [],
   "source": [
    "def mapping(data):\n",
    "    \"\"\"This function will takes list of alphabetical characters in lower case and return a dictionary with each key\n",
    "    and value pair\"\"\"\n",
    "    \n",
    "    try:\n",
    "        if type(data)==list:\n",
    "            d = {}\n",
    "            for i in data:\n",
    "                if i == i.lower(): #checking elements are in lower case\n",
    "                    d[i] = i.upper() #adding into dict\n",
    "                else:\n",
    "                    raise Exception(str(i) + \" is upper case\")\n",
    "                \n",
    "            return d\n",
    "        else:\n",
    "            raise Exception('Pass list of string arguments')\n",
    "    except Exception as ee:\n",
    "        print(ee)"
   ]
  },
  {
   "cell_type": "code",
   "execution_count": 86,
   "id": "8737c638",
   "metadata": {},
   "outputs": [
    {
     "data": {
      "text/plain": [
       "{'p': 'P', 's': 'S'}"
      ]
     },
     "execution_count": 86,
     "metadata": {},
     "output_type": "execute_result"
    }
   ],
   "source": [
    "mapping([\"p\", \"s\"])"
   ]
  },
  {
   "cell_type": "code",
   "execution_count": 87,
   "id": "9f3bbf9a",
   "metadata": {},
   "outputs": [
    {
     "data": {
      "text/plain": [
       "{'a': 'A', 'b': 'B', 'c': 'C'}"
      ]
     },
     "execution_count": 87,
     "metadata": {},
     "output_type": "execute_result"
    }
   ],
   "source": [
    "mapping([\"a\", \"b\", \"c\"])"
   ]
  },
  {
   "cell_type": "code",
   "execution_count": 88,
   "id": "ba729f1e",
   "metadata": {},
   "outputs": [
    {
     "data": {
      "text/plain": [
       "{'a': 'A', 'v': 'V', 'y': 'Y', 'z': 'Z'}"
      ]
     },
     "execution_count": 88,
     "metadata": {},
     "output_type": "execute_result"
    }
   ],
   "source": [
    "mapping([\"a\", \"v\", \"y\", \"z\"])"
   ]
  },
  {
   "cell_type": "markdown",
   "id": "c92e534b",
   "metadata": {},
   "source": [
    "Question 4 :\n",
    "Write a function, that replaces all vowels in a string with a specified vowel.\n"
   ]
  },
  {
   "cell_type": "code",
   "execution_count": 38,
   "id": "4cb58179",
   "metadata": {},
   "outputs": [],
   "source": [
    "def vow_replace(text, vow):\n",
    "    \"\"\"This function replaces all vowels in a string with a specified vowelS\"\"\"\n",
    "    try:\n",
    "        if type(text)==str and type(vow)==str:\n",
    "            \n",
    "            if text==text.lower() and vow==vow.lower():\n",
    "                \n",
    "                vowel = ['a','e','i','o','u'] #list of vowels\n",
    "            \n",
    "                if(vow=='a' or vow=='e' or vow=='i' or vow=='o' or vow=='u'):\n",
    "                    for i in vowel:\n",
    "                        text = text.replace(i,vow) #replacing vowels with specified vowel\n",
    "              \n",
    "                    return text      \n",
    "                else:\n",
    "                    raise Exception('Pass second argument as vowel')\n",
    "            else:\n",
    "                raise Exception('Pass arguments in lower case')\n",
    "        else:\n",
    "            raise Exception('Pass arguments in string')\n",
    "    except Exception as ee:\n",
    "        print(ee)"
   ]
  },
  {
   "cell_type": "code",
   "execution_count": 39,
   "id": "7f71e90f",
   "metadata": {},
   "outputs": [
    {
     "data": {
      "text/plain": [
       "'upplus und bununus'"
      ]
     },
     "execution_count": 39,
     "metadata": {},
     "output_type": "execute_result"
    }
   ],
   "source": [
    "vow_replace(\"apples and bananas\", \"u\")"
   ]
  },
  {
   "cell_type": "code",
   "execution_count": 40,
   "id": "a18a402a",
   "metadata": {},
   "outputs": [
    {
     "data": {
      "text/plain": [
       "'chooso cossorolo'"
      ]
     },
     "execution_count": 40,
     "metadata": {},
     "output_type": "execute_result"
    }
   ],
   "source": [
    "vow_replace(\"cheese casserole\", \"o\")"
   ]
  },
  {
   "cell_type": "code",
   "execution_count": 43,
   "id": "24261962",
   "metadata": {},
   "outputs": [
    {
     "data": {
      "text/plain": [
       "'steffed jelepene peppers'"
      ]
     },
     "execution_count": 43,
     "metadata": {},
     "output_type": "execute_result"
    }
   ],
   "source": [
    "vow_replace(\"stuffed jalapeno poppers\", \"e\")"
   ]
  },
  {
   "cell_type": "markdown",
   "id": "3945a757",
   "metadata": {},
   "source": [
    "Question 5 :\n",
    "Create a function that takes a string as input and capitalizes a letter if its ASCII code is even and returns its lower case version if its ASCII code is odd.\n"
   ]
  },
  {
   "cell_type": "code",
   "execution_count": 62,
   "id": "63f42983",
   "metadata": {},
   "outputs": [],
   "source": [
    "def ascii_capitalize(text):\n",
    "    \"\"\"This function takes a string as input and capitalizes a letter if its ASCII code is even and returns its lower\n",
    "    case version if its ASCII code is odd\"\"\"\n",
    "    try:\n",
    "        if type(text)==str:\n",
    "            \n",
    "            l = []\n",
    "            for i in text: #converting string into a list\n",
    "                l.append(i)\n",
    "            \n",
    "            for i in l:\n",
    "                if i!=' ':\n",
    "                    if ord(i)%2==0: #checking ascii code\n",
    "                        j = l.index(i)\n",
    "                        l[j] = i.upper()\n",
    "                    else:\n",
    "                        j = l.index(i)\n",
    "                        l[j] = i.lower()\n",
    "            else:\n",
    "                t = \"\"\n",
    "                for i in l: #return new string after operation\n",
    "                    t = t+i\n",
    "                \n",
    "                return t\n",
    "        else:\n",
    "            raise Exception('Pass a string argument')\n",
    "      \n",
    "    except Exception as ee:\n",
    "        print(ee)"
   ]
  },
  {
   "cell_type": "code",
   "execution_count": 63,
   "id": "0d4a9b97",
   "metadata": {},
   "outputs": [
    {
     "data": {
      "text/plain": [
       "'To Be oR NoT To Be!'"
      ]
     },
     "execution_count": 63,
     "metadata": {},
     "output_type": "execute_result"
    }
   ],
   "source": [
    "ascii_capitalize(\"to be or not to be!\")"
   ]
  },
  {
   "cell_type": "code",
   "execution_count": 64,
   "id": "bb9ea6f4",
   "metadata": {},
   "outputs": [
    {
     "data": {
      "text/plain": [
       "'THe LiTTLe meRmaiD'"
      ]
     },
     "execution_count": 64,
     "metadata": {},
     "output_type": "execute_result"
    }
   ],
   "source": [
    "ascii_capitalize(\"THE LITTLE MERMAID\")"
   ]
  },
  {
   "cell_type": "code",
   "execution_count": 65,
   "id": "a9ab005b",
   "metadata": {},
   "outputs": [
    {
     "data": {
      "text/plain": [
       "'oH wHaT a BeauTiFuL moRNiNg.'"
      ]
     },
     "execution_count": 65,
     "metadata": {},
     "output_type": "execute_result"
    }
   ],
   "source": [
    "ascii_capitalize(\"Oh what a beautiful morning.\")"
   ]
  },
  {
   "cell_type": "code",
   "execution_count": null,
   "id": "359b2650",
   "metadata": {},
   "outputs": [],
   "source": []
  },
  {
   "cell_type": "code",
   "execution_count": null,
   "id": "338b6f7d",
   "metadata": {},
   "outputs": [],
   "source": []
  }
 ],
 "metadata": {
  "kernelspec": {
   "display_name": "Python 3 (ipykernel)",
   "language": "python",
   "name": "python3"
  },
  "language_info": {
   "codemirror_mode": {
    "name": "ipython",
    "version": 3
   },
   "file_extension": ".py",
   "mimetype": "text/x-python",
   "name": "python",
   "nbconvert_exporter": "python",
   "pygments_lexer": "ipython3",
   "version": "3.9.7"
  }
 },
 "nbformat": 4,
 "nbformat_minor": 5
}
