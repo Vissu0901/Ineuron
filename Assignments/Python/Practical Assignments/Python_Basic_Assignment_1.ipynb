{
 "cells": [
  {
   "cell_type": "code",
   "execution_count": 24,
   "id": "a8b33f4d",
   "metadata": {},
   "outputs": [
    {
     "name": "stdout",
     "output_type": "stream",
     "text": [
      "Hello Python\n"
     ]
    }
   ],
   "source": [
    "print(\"Hello Python\")"
   ]
  },
  {
   "cell_type": "code",
   "execution_count": 25,
   "id": "27601f1d",
   "metadata": {},
   "outputs": [
    {
     "name": "stdout",
     "output_type": "stream",
     "text": [
      "Enter number a : 5\n",
      "Enter number b : 6\n",
      "Addition of two numbers is :  11\n",
      "Divison of a/b is :  0.8333333333333334\n"
     ]
    }
   ],
   "source": [
    "a = int(input(\"Enter number a : \"))\n",
    "b = int(input(\"Enter number b : \"))\n",
    "print(\"Addition of two numbers is : \",a+b)\n",
    "print(\"Divison of a/b is : \",a/b)"
   ]
  },
  {
   "cell_type": "code",
   "execution_count": 26,
   "id": "e9caa965",
   "metadata": {},
   "outputs": [
    {
     "name": "stdout",
     "output_type": "stream",
     "text": [
      "Enter height : 10\n",
      "Enter base : 24\n",
      "Area of triangle :  120.0\n"
     ]
    }
   ],
   "source": [
    "h = int(input(\"Enter height : \"))\n",
    "b = int(input(\"Enter base : \"))\n",
    "t = (h*b)/2\n",
    "print(\"Area of triangle : \",t)"
   ]
  },
  {
   "cell_type": "code",
   "execution_count": 28,
   "id": "88871c32",
   "metadata": {},
   "outputs": [
    {
     "name": "stdout",
     "output_type": "stream",
     "text": [
      "Enter a :2\n",
      "Enter b :3\n",
      "a and b values after swap a : 3  ,b :  2\n"
     ]
    }
   ],
   "source": [
    "a = int(input(\"Enter a :\"))\n",
    "b = int(input(\"Enter b :\"))\n",
    "temp = a\n",
    "a = b\n",
    "b = temp\n",
    "print(\"a and b values after swap a :\",a,\" ,b : \",b)"
   ]
  },
  {
   "cell_type": "code",
   "execution_count": 39,
   "id": "4992dcd2",
   "metadata": {},
   "outputs": [
    {
     "name": "stdout",
     "output_type": "stream",
     "text": [
      "5\n",
      "n\n"
     ]
    }
   ],
   "source": [
    "import random\n",
    "l = [1,4,6,0,2,5,66]\n",
    "print(random.choice(l))\n",
    "s = \"hello python\"\n",
    "print(random.choice(s))"
   ]
  },
  {
   "cell_type": "code",
   "execution_count": null,
   "id": "f18fa6c8",
   "metadata": {},
   "outputs": [],
   "source": []
  }
 ],
 "metadata": {
  "kernelspec": {
   "display_name": "Python 3 (ipykernel)",
   "language": "python",
   "name": "python3"
  },
  "language_info": {
   "codemirror_mode": {
    "name": "ipython",
    "version": 3
   },
   "file_extension": ".py",
   "mimetype": "text/x-python",
   "name": "python",
   "nbconvert_exporter": "python",
   "pygments_lexer": "ipython3",
   "version": "3.9.7"
  }
 },
 "nbformat": 4,
 "nbformat_minor": 5
}
