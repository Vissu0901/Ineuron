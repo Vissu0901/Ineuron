{
 "cells": [
  {
   "cell_type": "markdown",
   "id": "3ef9687d",
   "metadata": {},
   "source": [
    "Question 1: Create a function that take a list of non-negative integers and strings and return a new list without the strings"
   ]
  },
  {
   "cell_type": "code",
   "execution_count": 16,
   "id": "8925671e",
   "metadata": {},
   "outputs": [],
   "source": [
    "def filter_list(l):\n",
    "    \"\"\"This function will take a list of non-negative integers and strings and return a new list without the strings\"\"\"\n",
    "    try:\n",
    "        new_list=[]\n",
    "        for i in l:\n",
    "            if(type(i)!=int or i<0):\n",
    "                pass \n",
    "            else:\n",
    "                if type(i) == int:\n",
    "                    new_list.append(i)\n",
    "        return new_list\n",
    "    \n",
    "    except Exception as ee:\n",
    "        print(ee)"
   ]
  },
  {
   "cell_type": "code",
   "execution_count": 17,
   "id": "931acf4c",
   "metadata": {},
   "outputs": [
    {
     "data": {
      "text/plain": [
       "[1, 2]"
      ]
     },
     "execution_count": 17,
     "metadata": {},
     "output_type": "execute_result"
    }
   ],
   "source": [
    "filter_list([1,2,\"a\",\"b\"])"
   ]
  },
  {
   "cell_type": "code",
   "execution_count": 18,
   "id": "516e507c",
   "metadata": {},
   "outputs": [
    {
     "data": {
      "text/plain": [
       "[1, 0, 15]"
      ]
     },
     "execution_count": 18,
     "metadata": {},
     "output_type": "execute_result"
    }
   ],
   "source": [
    "filter_list([1,\"a\",\"b\",0,15])"
   ]
  },
  {
   "cell_type": "code",
   "execution_count": 19,
   "id": "eaac9013",
   "metadata": {},
   "outputs": [
    {
     "data": {
      "text/plain": [
       "[1, 2, 123]"
      ]
     },
     "execution_count": 19,
     "metadata": {},
     "output_type": "execute_result"
    }
   ],
   "source": [
    "filter_list([1,2,\"aaf\",\"1\",\"123\",123])"
   ]
  },
  {
   "cell_type": "markdown",
   "id": "8bf379af",
   "metadata": {},
   "source": [
    "Question 2: The \"Reverser\" takes a string as input and returns that string in reverse order, with the opposite case"
   ]
  },
  {
   "cell_type": "code",
   "execution_count": 20,
   "id": "ead1c930",
   "metadata": {},
   "outputs": [],
   "source": [
    "def reverse(txt):\n",
    "    \"\"\"This function will take a string as input and returns that string in reverse order, with the opposite case\"\"\"\n",
    "    try:\n",
    "        if type(txt) == str:\n",
    "            new_txt = txt[::-1]\n",
    "            return new_txt.swapcase()\n",
    "        else:\n",
    "            raise Exception('Enter string')\n",
    "    except Exception as ee:\n",
    "        print(ee)"
   ]
  },
  {
   "cell_type": "code",
   "execution_count": 21,
   "id": "48e36e38",
   "metadata": {},
   "outputs": [
    {
     "data": {
      "text/plain": [
       "'DLROw OLLEh'"
      ]
     },
     "execution_count": 21,
     "metadata": {},
     "output_type": "execute_result"
    }
   ],
   "source": [
    "reverse(\"Hello World\")"
   ]
  },
  {
   "cell_type": "code",
   "execution_count": 22,
   "id": "f4d7ae38",
   "metadata": {},
   "outputs": [
    {
     "data": {
      "text/plain": [
       "'eSrEvEr'"
      ]
     },
     "execution_count": 22,
     "metadata": {},
     "output_type": "execute_result"
    }
   ],
   "source": [
    "reverse(\"ReVeRsE\")"
   ]
  },
  {
   "cell_type": "code",
   "execution_count": 23,
   "id": "48d02ac3",
   "metadata": {},
   "outputs": [
    {
     "data": {
      "text/plain": [
       "'RADAr'"
      ]
     },
     "execution_count": 23,
     "metadata": {},
     "output_type": "execute_result"
    }
   ],
   "source": [
    "reverse(\"Radar\")"
   ]
  },
  {
   "cell_type": "markdown",
   "id": "4df46576",
   "metadata": {},
   "source": [
    "Question 3: You can assign variables from lists like this:\n",
    "lst = [1, 2, 3, 4, 5, 6]\n",
    "first = lst[0]\n",
    "middle = lst[1:-1]\n",
    "last = lst[-1]"
   ]
  },
  {
   "cell_type": "code",
   "execution_count": 24,
   "id": "aae2ad76",
   "metadata": {},
   "outputs": [],
   "source": [
    "def unpack(a):\n",
    "    \"\"\"This function will take list of elements and return first, middle and last elements of list\"\"\"\n",
    "    try:\n",
    "        if type(a)==list:\n",
    "            first = a[0]\n",
    "            size = len(a)\n",
    "            last = a[size-1]\n",
    "            middle = a[1:size-2]\n",
    "            return first, middle, last\n",
    "        else:\n",
    "            raise Exception('Enter elements in format of list')\n",
    "    except Exception as ee:\n",
    "        print(ee)"
   ]
  },
  {
   "cell_type": "code",
   "execution_count": 25,
   "id": "804cfde6",
   "metadata": {},
   "outputs": [
    {
     "data": {
      "text/plain": [
       "(1, [2, 3, 4], 6)"
      ]
     },
     "execution_count": 25,
     "metadata": {},
     "output_type": "execute_result"
    }
   ],
   "source": [
    "unpack([1,2,3,4,5,6])"
   ]
  },
  {
   "cell_type": "code",
   "execution_count": 26,
   "id": "8af63f6b",
   "metadata": {},
   "outputs": [
    {
     "data": {
      "text/plain": [
       "(1, [2, 3, 4, 5, 6, 'a'], 64)"
      ]
     },
     "execution_count": 26,
     "metadata": {},
     "output_type": "execute_result"
    }
   ],
   "source": [
    "unpack([1,2,3,4,5,6,\"a\",234,64])"
   ]
  },
  {
   "cell_type": "code",
   "execution_count": 27,
   "id": "cce7d7d4",
   "metadata": {},
   "outputs": [
    {
     "name": "stdout",
     "output_type": "stream",
     "text": [
      "Enter elements in format of list\n"
     ]
    }
   ],
   "source": [
    "unpack(1)"
   ]
  },
  {
   "cell_type": "markdown",
   "id": "f6f0a204",
   "metadata": {},
   "source": [
    "Question 4: Write a function that calculates the factorial of a number recursively."
   ]
  },
  {
   "cell_type": "code",
   "execution_count": 28,
   "id": "dc4689f3",
   "metadata": {},
   "outputs": [],
   "source": [
    "def factorial(a):\n",
    "    \"\"\"This function will calculate the factorial of a number recursively\"\"\"\n",
    "    try:\n",
    "        if type(a) == int:\n",
    "            if a == 1:\n",
    "                return a\n",
    "            elif a == 0:\n",
    "                return 1\n",
    "            else:\n",
    "                return a*factorial(a-1)\n",
    "        else:\n",
    "            raise Exception('Please enter integer')\n",
    "    except Exception as ee:\n",
    "        print(ee)"
   ]
  },
  {
   "cell_type": "code",
   "execution_count": 29,
   "id": "4eecf6a7",
   "metadata": {},
   "outputs": [
    {
     "data": {
      "text/plain": [
       "120"
      ]
     },
     "execution_count": 29,
     "metadata": {},
     "output_type": "execute_result"
    }
   ],
   "source": [
    "factorial(5)"
   ]
  },
  {
   "cell_type": "markdown",
   "id": "91dcfbf4",
   "metadata": {},
   "source": [
    "Question 5: Write a function that moves all elements of one type to the end of the list."
   ]
  },
  {
   "cell_type": "code",
   "execution_count": 34,
   "id": "7f763c99",
   "metadata": {},
   "outputs": [],
   "source": [
    "def move_to_end(l,ele):\n",
    "    \"\"\"This function will moves all elements of one type to the end of the list\"\"\"\n",
    "    try:\n",
    "        if type(l) == list:\n",
    "            for i in l:\n",
    "                if i == ele:\n",
    "                    l.append(i)\n",
    "                    l.remove(i)\n",
    "            return l\n",
    "        else:\n",
    "            raise Exception('Pass first argument in list format')\n",
    "    except Exception as ee:\n",
    "        print(ee)\n",
    "    "
   ]
  },
  {
   "cell_type": "code",
   "execution_count": 35,
   "id": "159f4873",
   "metadata": {},
   "outputs": [
    {
     "data": {
      "text/plain": [
       "[3, 2, 4, 4, 1, 1]"
      ]
     },
     "execution_count": 35,
     "metadata": {},
     "output_type": "execute_result"
    }
   ],
   "source": [
    "move_to_end([1,3,2,4,4,1],1)"
   ]
  },
  {
   "cell_type": "code",
   "execution_count": 36,
   "id": "b56b174b",
   "metadata": {},
   "outputs": [
    {
     "data": {
      "text/plain": [
       "[7, 8, 1, 2, 3, 4, 9]"
      ]
     },
     "execution_count": 36,
     "metadata": {},
     "output_type": "execute_result"
    }
   ],
   "source": [
    "move_to_end([7, 8, 9, 1, 2, 3, 4], 9)"
   ]
  },
  {
   "cell_type": "code",
   "execution_count": 37,
   "id": "58975ae1",
   "metadata": {},
   "outputs": [
    {
     "data": {
      "text/plain": [
       "['b', 'a', 'a', 'a']"
      ]
     },
     "execution_count": 37,
     "metadata": {},
     "output_type": "execute_result"
    }
   ],
   "source": [
    "move_to_end([\"a\",\"a\",\"a\",\"b\"],\"a\")"
   ]
  },
  {
   "cell_type": "code",
   "execution_count": null,
   "id": "746641e5",
   "metadata": {},
   "outputs": [],
   "source": []
  },
  {
   "cell_type": "code",
   "execution_count": null,
   "id": "588cce64",
   "metadata": {},
   "outputs": [],
   "source": []
  }
 ],
 "metadata": {
  "kernelspec": {
   "display_name": "Python 3 (ipykernel)",
   "language": "python",
   "name": "python3"
  },
  "language_info": {
   "codemirror_mode": {
    "name": "ipython",
    "version": 3
   },
   "file_extension": ".py",
   "mimetype": "text/x-python",
   "name": "python",
   "nbconvert_exporter": "python",
   "pygments_lexer": "ipython3",
   "version": "3.9.7"
  }
 },
 "nbformat": 4,
 "nbformat_minor": 5
}
