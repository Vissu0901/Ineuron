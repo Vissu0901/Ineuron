{
 "cells": [
  {
   "cell_type": "markdown",
   "id": "3c34aabd",
   "metadata": {},
   "source": [
    "1. In the below elements which of them are values or an expression? eg:- values can be integer or string and expressions will be mathematical operators.\n"
   ]
  },
  {
   "cell_type": "markdown",
   "id": "6814be74",
   "metadata": {},
   "source": [
    " Answer:    * -> Expression (Multiplication)\n",
    "            'hello' -> String\n",
    "            -87.8 -> Float\n",
    "            - -> Expression (Subtraction)\n",
    "            / -> Expression (Division)\n",
    "            + -> Expression (Addition)\n",
    "            6 - Integer\n",
    "            "
   ]
  },
  {
   "cell_type": "markdown",
   "id": "1abf008d",
   "metadata": {},
   "source": [
    "2. What is the difference between string and variable?"
   ]
  },
  {
   "cell_type": "markdown",
   "id": "ba3627bc",
   "metadata": {},
   "source": [
    "Answer: string -> is a datatype or class which is collection of characters and can be accessed by indices.\n",
    "        variable -> is used to store the value in a format of string, boolean, integer etc, which we can access\n",
    "                    and make operations of it."
   ]
  },
  {
   "cell_type": "markdown",
   "id": "d2f54377",
   "metadata": {},
   "source": [
    "3. Describe three different data types."
   ]
  },
  {
   "cell_type": "markdown",
   "id": "1b164ab1",
   "metadata": {},
   "source": [
    "Answer: Integer (int) -> will stores the whole numbers whether negitive number or positive numbers.\n",
    "        String (str) -> is a datatype or class which is collection of characters and can be accessed by indices.\n",
    "        Boolean (bool) -> bool will stores only two values either True or False, used mostly in conditional statements."
   ]
  },
  {
   "cell_type": "markdown",
   "id": "0635f73b",
   "metadata": {},
   "source": [
    "4. What is an expression made up of? What do all expressions do?"
   ]
  },
  {
   "cell_type": "markdown",
   "id": "75ab6389",
   "metadata": {},
   "source": [
    "Answer: An expression is a combination of operator and operand which will generate other value.\n",
    "        1. Addition -> (+)\n",
    "        2. Subtraction -> (-)\n",
    "        3. Multiplication -> (*)\n",
    "        4. Division -> (/)\n",
    "        5. Modulo division -> (%)"
   ]
  },
  {
   "cell_type": "markdown",
   "id": "c6fca35b",
   "metadata": {},
   "source": [
    "5. This assignment statements, like spam = 10. What is the difference between an expression and a statement?\n"
   ]
  },
  {
   "cell_type": "markdown",
   "id": "7594b5d5",
   "metadata": {},
   "source": [
    "Answer: In \"spam = 10\", spam is a variable, = is assignment operator, 10 is an integer value.\n",
    "        Expression trys to store value in variable and statement is a combination of all variable, value and operator."
   ]
  },
  {
   "cell_type": "markdown",
   "id": "f60e2646",
   "metadata": {},
   "source": [
    "6. After running the following code, what does the variable bacon contain?\n",
    "bacon = 22\n",
    "bacon + 1"
   ]
  },
  {
   "cell_type": "code",
   "execution_count": 3,
   "id": "bbfc94db",
   "metadata": {},
   "outputs": [
    {
     "data": {
      "text/plain": [
       "23"
      ]
     },
     "execution_count": 3,
     "metadata": {},
     "output_type": "execute_result"
    }
   ],
   "source": [
    "#Answer: 1 added to 22 = 23\n",
    "bacon = 22\n",
    "bacon + 1"
   ]
  },
  {
   "cell_type": "markdown",
   "id": "cc63e029",
   "metadata": {},
   "source": [
    "7. What should the values of the following two terms be?\n",
    "'spam' + 'spamspam'\n",
    "'spam' * 3"
   ]
  },
  {
   "cell_type": "code",
   "execution_count": 4,
   "id": "b7e89eb8",
   "metadata": {},
   "outputs": [
    {
     "data": {
      "text/plain": [
       "'spamspamspam'"
      ]
     },
     "execution_count": 4,
     "metadata": {},
     "output_type": "execute_result"
    }
   ],
   "source": [
    "#Answer: + is used to concate the string and * to multiple the string number of times after operator\n",
    "'spam' + 'spamspam'\n",
    "'spam' * 3"
   ]
  },
  {
   "cell_type": "markdown",
   "id": "3cae0e3b",
   "metadata": {},
   "source": [
    "8. Why is eggs a valid variable name while 100 is invalid?"
   ]
  },
  {
   "cell_type": "markdown",
   "id": "b631bea6",
   "metadata": {},
   "source": [
    "Answer: As per Python instructions any variable should not start with numbers. 100 is a number so 100 is a invalid\n",
    "        variable name and eggs is not a keyword so eggs is a valid variable name."
   ]
  },
  {
   "cell_type": "markdown",
   "id": "fcf1d6c5",
   "metadata": {},
   "source": [
    "9. What three functions can be used to get the integer, floating-point number, or string version of a value?"
   ]
  },
  {
   "cell_type": "markdown",
   "id": "55e8565f",
   "metadata": {},
   "source": [
    "Answer: int(value) -> for integer version of a value\n",
    "        float(value) -> for floating version of a value\n",
    "        str(value) -> for string version of a value"
   ]
  },
  {
   "cell_type": "markdown",
   "id": "ecb384c1",
   "metadata": {},
   "source": [
    "10. Why does this expression cause an error? How can you fix it?\n",
    "'I have eaten ' + 99 + ' burritos.'"
   ]
  },
  {
   "cell_type": "code",
   "execution_count": 6,
   "id": "5b23a100",
   "metadata": {},
   "outputs": [
    {
     "data": {
      "text/plain": [
       "'I have eaten 99 burritos.'"
      ]
     },
     "execution_count": 6,
     "metadata": {},
     "output_type": "execute_result"
    }
   ],
   "source": [
    "#Answer: we can't concat two different types of values, to solve this needs to convert 99 into string with help of str()\n",
    "'I have eaten ' + str(99) + ' burritos.'"
   ]
  },
  {
   "cell_type": "code",
   "execution_count": null,
   "id": "c4d5b671",
   "metadata": {},
   "outputs": [],
   "source": []
  }
 ],
 "metadata": {
  "kernelspec": {
   "display_name": "Python 3 (ipykernel)",
   "language": "python",
   "name": "python3"
  },
  "language_info": {
   "codemirror_mode": {
    "name": "ipython",
    "version": 3
   },
   "file_extension": ".py",
   "mimetype": "text/x-python",
   "name": "python",
   "nbconvert_exporter": "python",
   "pygments_lexer": "ipython3",
   "version": "3.9.7"
  }
 },
 "nbformat": 4,
 "nbformat_minor": 5
}
