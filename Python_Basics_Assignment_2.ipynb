{
 "cells": [
  {
   "cell_type": "code",
   "execution_count": 3,
   "id": "0a85b6cb",
   "metadata": {},
   "outputs": [],
   "source": [
    "#function to convert kms into miles\n",
    "def kms_to_miles(a):\n",
    "    \"\"\"This function will convert kms into miles\"\"\"\n",
    "    mile = 0.621371\n",
    "    return mile*a\n"
   ]
  },
  {
   "cell_type": "code",
   "execution_count": 4,
   "id": "06cdc9c6",
   "metadata": {},
   "outputs": [
    {
     "data": {
      "text/plain": [
       "5.592339"
      ]
     },
     "execution_count": 4,
     "metadata": {},
     "output_type": "execute_result"
    }
   ],
   "source": [
    "kms_to_miles(9)"
   ]
  },
  {
   "cell_type": "code",
   "execution_count": 10,
   "id": "eaa1ed01",
   "metadata": {},
   "outputs": [],
   "source": [
    "#function to convert celicus to fahrenheit\n",
    "def celsius_to_fahrenheit(c):\n",
    "    \"\"\"This function will convert celicus to fahrenheit\"\"\"\n",
    "    f = (9*c)/5+32\n",
    "    return f"
   ]
  },
  {
   "cell_type": "code",
   "execution_count": 12,
   "id": "ce0cfd99",
   "metadata": {},
   "outputs": [
    {
     "data": {
      "text/plain": [
       "89.6"
      ]
     },
     "execution_count": 12,
     "metadata": {},
     "output_type": "execute_result"
    }
   ],
   "source": [
    "celsius_to_fahrenheit(32)"
   ]
  },
  {
   "cell_type": "code",
   "execution_count": 13,
   "id": "0d9ae470",
   "metadata": {},
   "outputs": [],
   "source": [
    "#function will display year calendar\n",
    "import calendar\n",
    "def calendar_year(a):\n",
    "    \"\"\"This function will display year calendar\"\"\"\n",
    "    print(calendar.calendar(a))"
   ]
  },
  {
   "cell_type": "code",
   "execution_count": 14,
   "id": "6538277a",
   "metadata": {},
   "outputs": [
    {
     "name": "stdout",
     "output_type": "stream",
     "text": [
      "                                  2022\n",
      "\n",
      "      January                   February                   March\n",
      "Mo Tu We Th Fr Sa Su      Mo Tu We Th Fr Sa Su      Mo Tu We Th Fr Sa Su\n",
      "                1  2          1  2  3  4  5  6          1  2  3  4  5  6\n",
      " 3  4  5  6  7  8  9       7  8  9 10 11 12 13       7  8  9 10 11 12 13\n",
      "10 11 12 13 14 15 16      14 15 16 17 18 19 20      14 15 16 17 18 19 20\n",
      "17 18 19 20 21 22 23      21 22 23 24 25 26 27      21 22 23 24 25 26 27\n",
      "24 25 26 27 28 29 30      28                        28 29 30 31\n",
      "31\n",
      "\n",
      "       April                      May                       June\n",
      "Mo Tu We Th Fr Sa Su      Mo Tu We Th Fr Sa Su      Mo Tu We Th Fr Sa Su\n",
      "             1  2  3                         1             1  2  3  4  5\n",
      " 4  5  6  7  8  9 10       2  3  4  5  6  7  8       6  7  8  9 10 11 12\n",
      "11 12 13 14 15 16 17       9 10 11 12 13 14 15      13 14 15 16 17 18 19\n",
      "18 19 20 21 22 23 24      16 17 18 19 20 21 22      20 21 22 23 24 25 26\n",
      "25 26 27 28 29 30         23 24 25 26 27 28 29      27 28 29 30\n",
      "                          30 31\n",
      "\n",
      "        July                     August                  September\n",
      "Mo Tu We Th Fr Sa Su      Mo Tu We Th Fr Sa Su      Mo Tu We Th Fr Sa Su\n",
      "             1  2  3       1  2  3  4  5  6  7                1  2  3  4\n",
      " 4  5  6  7  8  9 10       8  9 10 11 12 13 14       5  6  7  8  9 10 11\n",
      "11 12 13 14 15 16 17      15 16 17 18 19 20 21      12 13 14 15 16 17 18\n",
      "18 19 20 21 22 23 24      22 23 24 25 26 27 28      19 20 21 22 23 24 25\n",
      "25 26 27 28 29 30 31      29 30 31                  26 27 28 29 30\n",
      "\n",
      "      October                   November                  December\n",
      "Mo Tu We Th Fr Sa Su      Mo Tu We Th Fr Sa Su      Mo Tu We Th Fr Sa Su\n",
      "                1  2          1  2  3  4  5  6                1  2  3  4\n",
      " 3  4  5  6  7  8  9       7  8  9 10 11 12 13       5  6  7  8  9 10 11\n",
      "10 11 12 13 14 15 16      14 15 16 17 18 19 20      12 13 14 15 16 17 18\n",
      "17 18 19 20 21 22 23      21 22 23 24 25 26 27      19 20 21 22 23 24 25\n",
      "24 25 26 27 28 29 30      28 29 30                  26 27 28 29 30 31\n",
      "31\n",
      "\n"
     ]
    }
   ],
   "source": [
    "calendar_year(2022)"
   ]
  },
  {
   "cell_type": "code",
   "execution_count": 17,
   "id": "02378c91",
   "metadata": {},
   "outputs": [],
   "source": [
    "#function will solve quadractic equations\n",
    "import cmath\n",
    "def quadratic_equations(a,b,c):\n",
    "    \"\"\"This function will solve quadractic equations\"\"\"\n",
    "    d = (b**2)-(4*a*c)\n",
    "    #sol 1\n",
    "    sol1 = (-b+cmath.sqrt(d))/(2*a)\n",
    "    sol2 = (-b-cmath.sqrt(d))/(2*a)\n",
    "    return sol1, sol2\n",
    "    "
   ]
  },
  {
   "cell_type": "code",
   "execution_count": 16,
   "id": "6381a045",
   "metadata": {},
   "outputs": [
    {
     "data": {
      "text/plain": [
       "((-1+1.7320508075688772j), (-1-1.7320508075688772j))"
      ]
     },
     "execution_count": 16,
     "metadata": {},
     "output_type": "execute_result"
    }
   ],
   "source": [
    "quadratic_equations(1,2,4)"
   ]
  },
  {
   "cell_type": "code",
   "execution_count": 34,
   "id": "24b19c99",
   "metadata": {},
   "outputs": [],
   "source": [
    "#function will swap variables without temp\n",
    "def swap_without_temp(a,b):\n",
    "    a = a+b\n",
    "    b = a-b\n",
    "    a = a-b\n",
    "    return a, b"
   ]
  },
  {
   "cell_type": "code",
   "execution_count": 36,
   "id": "d216121f",
   "metadata": {},
   "outputs": [
    {
     "data": {
      "text/plain": [
       "(5, 3)"
      ]
     },
     "execution_count": 36,
     "metadata": {},
     "output_type": "execute_result"
    }
   ],
   "source": [
    "swap_without_temp(3,5)"
   ]
  },
  {
   "cell_type": "code",
   "execution_count": null,
   "id": "47a1cfc1",
   "metadata": {},
   "outputs": [],
   "source": []
  }
 ],
 "metadata": {
  "kernelspec": {
   "display_name": "Python 3 (ipykernel)",
   "language": "python",
   "name": "python3"
  },
  "language_info": {
   "codemirror_mode": {
    "name": "ipython",
    "version": 3
   },
   "file_extension": ".py",
   "mimetype": "text/x-python",
   "name": "python",
   "nbconvert_exporter": "python",
   "pygments_lexer": "ipython3",
   "version": "3.9.7"
  }
 },
 "nbformat": 4,
 "nbformat_minor": 5
}
